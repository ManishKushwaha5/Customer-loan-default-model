{
 "cells": [
  {
   "cell_type": "markdown",
   "metadata": {},
   "source": [
    "# Default Customers Model\n",
    "\n",
    "Background: \n",
    "Client is a payment gateway that lets consumers split purchases into 4 interest free installments, every two weeks. The first 25% is taken when the order is received, and the remaining 3 installments of 25% are automatically taken every 14 days. They help customers  manage their cash-flow and help merchants increase conversion rates and average order values.\n",
    "\n",
    "This Machine learning program is based on the dataset provided by client. Dataset includes historical orders of customers and their repayment status. An order is considered in defaulted if any of the installments have not been paid. Our aim is to \n",
    "keep approval rates high (allow as many customers to transact as possible) while reducing the total defaulted payments.\n",
    "We need to analyze the data and design a classifier that can be used to approve future customers to pay in installments. \n",
    "\n",
    "\n",
    "The overall scope will includes the following:\n",
    "-Exploratory data analysis(EDA)\n",
    "-Build a classifier\n",
    "-Solve following questions:\n",
    "  ● Which features show strong correlation with a customer’s likelihood of paying back installments?\n",
    "  ● Which features should be discarded? Why?\n",
    "  ● What surprised you about the results/trends observed in the data?\n",
    "  ● What additional data would you like to see that might help build a better installment approval classifier?\n",
    "  ● What would be your next steps to train/build a model that we could use to make real time customer approval decisions?\n"
   ]
  },
  {
   "cell_type": "code",
   "execution_count": 2,
   "metadata": {},
   "outputs": [],
   "source": [
    "#Import required Libraries \n",
    "import numpy as np\n",
    "import pandas as pd\n",
    "import seaborn as sns\n",
    "import matplotlib.pyplot as plt\n",
    "from sklearn.model_selection import train_test_split"
   ]
  },
  {
   "cell_type": "code",
   "execution_count": 3,
   "metadata": {},
   "outputs": [],
   "source": [
    "path= r'C:\\Users\\USER\\Desktop\\DS\\Quad'"
   ]
  },
  {
   "cell_type": "code",
   "execution_count": 4,
   "metadata": {},
   "outputs": [],
   "source": [
    "df= pd.read_excel(path+str('/')+'orders.xlsx')"
   ]
  },
  {
   "cell_type": "code",
   "execution_count": 5,
   "metadata": {},
   "outputs": [
    {
     "data": {
      "text/html": [
       "<div>\n",
       "<style scoped>\n",
       "    .dataframe tbody tr th:only-of-type {\n",
       "        vertical-align: middle;\n",
       "    }\n",
       "\n",
       "    .dataframe tbody tr th {\n",
       "        vertical-align: top;\n",
       "    }\n",
       "\n",
       "    .dataframe thead th {\n",
       "        text-align: right;\n",
       "    }\n",
       "</style>\n",
       "<table border=\"1\" class=\"dataframe\">\n",
       "  <thead>\n",
       "    <tr style=\"text-align: right;\">\n",
       "      <th></th>\n",
       "      <th>order_id</th>\n",
       "      <th>customer_id</th>\n",
       "      <th>merchant_id</th>\n",
       "      <th>order_amount</th>\n",
       "      <th>checkout_started_at</th>\n",
       "      <th>credit_decision_started_at</th>\n",
       "      <th>approved_for_installments</th>\n",
       "      <th>customer_credit_score</th>\n",
       "      <th>customer_age</th>\n",
       "      <th>customer_billing_zip</th>\n",
       "      <th>customer_shipping_zip</th>\n",
       "      <th>paid_installment_1</th>\n",
       "      <th>paid_installment_2</th>\n",
       "      <th>paid_installment_3</th>\n",
       "      <th>paid_installment_4</th>\n",
       "    </tr>\n",
       "  </thead>\n",
       "  <tbody>\n",
       "    <tr>\n",
       "      <th>0</th>\n",
       "      <td>42C39B</td>\n",
       "      <td>9D74A0</td>\n",
       "      <td>6881F9</td>\n",
       "      <td>147.20</td>\n",
       "      <td>2018-10-03 14:26:18.497</td>\n",
       "      <td>2018-10-03 14:26:18.997</td>\n",
       "      <td>True</td>\n",
       "      <td>626</td>\n",
       "      <td>26</td>\n",
       "      <td>95407</td>\n",
       "      <td>95407</td>\n",
       "      <td>1.0</td>\n",
       "      <td>1</td>\n",
       "      <td>1.0</td>\n",
       "      <td>1.0</td>\n",
       "    </tr>\n",
       "    <tr>\n",
       "      <th>1</th>\n",
       "      <td>A19AC4</td>\n",
       "      <td>2629AB</td>\n",
       "      <td>C37828</td>\n",
       "      <td>69.95</td>\n",
       "      <td>2018-09-21 16:55:03.443</td>\n",
       "      <td>2018-09-21 16:55:05.100</td>\n",
       "      <td>True</td>\n",
       "      <td>603</td>\n",
       "      <td>20</td>\n",
       "      <td>85007</td>\n",
       "      <td>85007</td>\n",
       "      <td>1.0</td>\n",
       "      <td>1</td>\n",
       "      <td>1.0</td>\n",
       "      <td>1.0</td>\n",
       "    </tr>\n",
       "    <tr>\n",
       "      <th>2</th>\n",
       "      <td>381AFF</td>\n",
       "      <td>793FE0</td>\n",
       "      <td>252600000000</td>\n",
       "      <td>45.00</td>\n",
       "      <td>2018-09-15 13:41:46.103</td>\n",
       "      <td>2018-09-15 13:41:47.197</td>\n",
       "      <td>True</td>\n",
       "      <td>648</td>\n",
       "      <td>41</td>\n",
       "      <td>30305-2646</td>\n",
       "      <td>30305-2646</td>\n",
       "      <td>1.0</td>\n",
       "      <td>1</td>\n",
       "      <td>1.0</td>\n",
       "      <td>1.0</td>\n",
       "    </tr>\n",
       "    <tr>\n",
       "      <th>3</th>\n",
       "      <td>3184A3</td>\n",
       "      <td>22C696</td>\n",
       "      <td>24FBAF</td>\n",
       "      <td>164.00</td>\n",
       "      <td>2018-10-10 00:59:25.793</td>\n",
       "      <td>2018-10-10 00:59:26.123</td>\n",
       "      <td>True</td>\n",
       "      <td>625</td>\n",
       "      <td>33</td>\n",
       "      <td>28562</td>\n",
       "      <td>28562</td>\n",
       "      <td>1.0</td>\n",
       "      <td>1</td>\n",
       "      <td>1.0</td>\n",
       "      <td>1.0</td>\n",
       "    </tr>\n",
       "    <tr>\n",
       "      <th>4</th>\n",
       "      <td>237711</td>\n",
       "      <td>D4E94A</td>\n",
       "      <td>6F498E</td>\n",
       "      <td>69.17</td>\n",
       "      <td>2018-09-12 22:53:08.970</td>\n",
       "      <td>2018-09-12 22:53:10.923</td>\n",
       "      <td>True</td>\n",
       "      <td>438</td>\n",
       "      <td>18</td>\n",
       "      <td>92324</td>\n",
       "      <td>92324</td>\n",
       "      <td>1.0</td>\n",
       "      <td>1</td>\n",
       "      <td>1.0</td>\n",
       "      <td>1.0</td>\n",
       "    </tr>\n",
       "  </tbody>\n",
       "</table>\n",
       "</div>"
      ],
      "text/plain": [
       "  order_id customer_id   merchant_id  order_amount     checkout_started_at  \\\n",
       "0   42C39B      9D74A0        6881F9        147.20 2018-10-03 14:26:18.497   \n",
       "1   A19AC4      2629AB        C37828         69.95 2018-09-21 16:55:03.443   \n",
       "2   381AFF      793FE0  252600000000         45.00 2018-09-15 13:41:46.103   \n",
       "3   3184A3      22C696        24FBAF        164.00 2018-10-10 00:59:25.793   \n",
       "4   237711      D4E94A        6F498E         69.17 2018-09-12 22:53:08.970   \n",
       "\n",
       "  credit_decision_started_at  approved_for_installments  \\\n",
       "0    2018-10-03 14:26:18.997                       True   \n",
       "1    2018-09-21 16:55:05.100                       True   \n",
       "2    2018-09-15 13:41:47.197                       True   \n",
       "3    2018-10-10 00:59:26.123                       True   \n",
       "4    2018-09-12 22:53:10.923                       True   \n",
       "\n",
       "   customer_credit_score  customer_age customer_billing_zip  \\\n",
       "0                    626            26                95407   \n",
       "1                    603            20                85007   \n",
       "2                    648            41           30305-2646   \n",
       "3                    625            33                28562   \n",
       "4                    438            18                92324   \n",
       "\n",
       "  customer_shipping_zip  paid_installment_1  paid_installment_2  \\\n",
       "0                 95407                 1.0                   1   \n",
       "1                 85007                 1.0                   1   \n",
       "2            30305-2646                 1.0                   1   \n",
       "3                 28562                 1.0                   1   \n",
       "4                 92324                 1.0                   1   \n",
       "\n",
       "   paid_installment_3  paid_installment_4  \n",
       "0                 1.0                 1.0  \n",
       "1                 1.0                 1.0  \n",
       "2                 1.0                 1.0  \n",
       "3                 1.0                 1.0  \n",
       "4                 1.0                 1.0  "
      ]
     },
     "execution_count": 5,
     "metadata": {},
     "output_type": "execute_result"
    }
   ],
   "source": [
    "df.head()"
   ]
  },
  {
   "cell_type": "code",
   "execution_count": 6,
   "metadata": {},
   "outputs": [
    {
     "data": {
      "text/plain": [
       "(10000, 15)"
      ]
     },
     "execution_count": 6,
     "metadata": {},
     "output_type": "execute_result"
    }
   ],
   "source": [
    "df.shape"
   ]
  },
  {
   "cell_type": "code",
   "execution_count": 7,
   "metadata": {},
   "outputs": [
    {
     "data": {
      "text/html": [
       "<div>\n",
       "<style scoped>\n",
       "    .dataframe tbody tr th:only-of-type {\n",
       "        vertical-align: middle;\n",
       "    }\n",
       "\n",
       "    .dataframe tbody tr th {\n",
       "        vertical-align: top;\n",
       "    }\n",
       "\n",
       "    .dataframe thead th {\n",
       "        text-align: right;\n",
       "    }\n",
       "</style>\n",
       "<table border=\"1\" class=\"dataframe\">\n",
       "  <thead>\n",
       "    <tr style=\"text-align: right;\">\n",
       "      <th></th>\n",
       "      <th>order_amount</th>\n",
       "      <th>customer_credit_score</th>\n",
       "      <th>customer_age</th>\n",
       "      <th>paid_installment_1</th>\n",
       "      <th>paid_installment_2</th>\n",
       "      <th>paid_installment_3</th>\n",
       "      <th>paid_installment_4</th>\n",
       "    </tr>\n",
       "  </thead>\n",
       "  <tbody>\n",
       "    <tr>\n",
       "      <th>count</th>\n",
       "      <td>10000.000000</td>\n",
       "      <td>10000.000000</td>\n",
       "      <td>10000.000000</td>\n",
       "      <td>9998.0</td>\n",
       "      <td>10000.000000</td>\n",
       "      <td>9996.000000</td>\n",
       "      <td>9423.000000</td>\n",
       "    </tr>\n",
       "    <tr>\n",
       "      <th>mean</th>\n",
       "      <td>146.252272</td>\n",
       "      <td>613.435900</td>\n",
       "      <td>33.544300</td>\n",
       "      <td>1.0</td>\n",
       "      <td>0.977900</td>\n",
       "      <td>0.959684</td>\n",
       "      <td>0.940359</td>\n",
       "    </tr>\n",
       "    <tr>\n",
       "      <th>std</th>\n",
       "      <td>167.883106</td>\n",
       "      <td>92.555118</td>\n",
       "      <td>11.933729</td>\n",
       "      <td>0.0</td>\n",
       "      <td>0.147016</td>\n",
       "      <td>0.196709</td>\n",
       "      <td>0.236834</td>\n",
       "    </tr>\n",
       "    <tr>\n",
       "      <th>min</th>\n",
       "      <td>4.950000</td>\n",
       "      <td>1.000000</td>\n",
       "      <td>18.000000</td>\n",
       "      <td>1.0</td>\n",
       "      <td>0.000000</td>\n",
       "      <td>0.000000</td>\n",
       "      <td>0.000000</td>\n",
       "    </tr>\n",
       "    <tr>\n",
       "      <th>25%</th>\n",
       "      <td>64.000000</td>\n",
       "      <td>562.000000</td>\n",
       "      <td>24.000000</td>\n",
       "      <td>1.0</td>\n",
       "      <td>1.000000</td>\n",
       "      <td>1.000000</td>\n",
       "      <td>1.000000</td>\n",
       "    </tr>\n",
       "    <tr>\n",
       "      <th>50%</th>\n",
       "      <td>90.765000</td>\n",
       "      <td>611.000000</td>\n",
       "      <td>30.000000</td>\n",
       "      <td>1.0</td>\n",
       "      <td>1.000000</td>\n",
       "      <td>1.000000</td>\n",
       "      <td>1.000000</td>\n",
       "    </tr>\n",
       "    <tr>\n",
       "      <th>75%</th>\n",
       "      <td>155.000000</td>\n",
       "      <td>664.000000</td>\n",
       "      <td>40.250000</td>\n",
       "      <td>1.0</td>\n",
       "      <td>1.000000</td>\n",
       "      <td>1.000000</td>\n",
       "      <td>1.000000</td>\n",
       "    </tr>\n",
       "    <tr>\n",
       "      <th>max</th>\n",
       "      <td>1936.000000</td>\n",
       "      <td>836.000000</td>\n",
       "      <td>89.000000</td>\n",
       "      <td>1.0</td>\n",
       "      <td>1.000000</td>\n",
       "      <td>1.000000</td>\n",
       "      <td>1.000000</td>\n",
       "    </tr>\n",
       "  </tbody>\n",
       "</table>\n",
       "</div>"
      ],
      "text/plain": [
       "       order_amount  customer_credit_score  customer_age  paid_installment_1  \\\n",
       "count  10000.000000           10000.000000  10000.000000              9998.0   \n",
       "mean     146.252272             613.435900     33.544300                 1.0   \n",
       "std      167.883106              92.555118     11.933729                 0.0   \n",
       "min        4.950000               1.000000     18.000000                 1.0   \n",
       "25%       64.000000             562.000000     24.000000                 1.0   \n",
       "50%       90.765000             611.000000     30.000000                 1.0   \n",
       "75%      155.000000             664.000000     40.250000                 1.0   \n",
       "max     1936.000000             836.000000     89.000000                 1.0   \n",
       "\n",
       "       paid_installment_2  paid_installment_3  paid_installment_4  \n",
       "count        10000.000000         9996.000000         9423.000000  \n",
       "mean             0.977900            0.959684            0.940359  \n",
       "std              0.147016            0.196709            0.236834  \n",
       "min              0.000000            0.000000            0.000000  \n",
       "25%              1.000000            1.000000            1.000000  \n",
       "50%              1.000000            1.000000            1.000000  \n",
       "75%              1.000000            1.000000            1.000000  \n",
       "max              1.000000            1.000000            1.000000  "
      ]
     },
     "execution_count": 7,
     "metadata": {},
     "output_type": "execute_result"
    }
   ],
   "source": [
    "df.describe()"
   ]
  },
  {
   "cell_type": "code",
   "execution_count": 8,
   "metadata": {},
   "outputs": [
    {
     "name": "stdout",
     "output_type": "stream",
     "text": [
      "<class 'pandas.core.frame.DataFrame'>\n",
      "RangeIndex: 10000 entries, 0 to 9999\n",
      "Data columns (total 15 columns):\n",
      " #   Column                      Non-Null Count  Dtype         \n",
      "---  ------                      --------------  -----         \n",
      " 0   order_id                    10000 non-null  object        \n",
      " 1   customer_id                 10000 non-null  object        \n",
      " 2   merchant_id                 10000 non-null  object        \n",
      " 3   order_amount                10000 non-null  float64       \n",
      " 4   checkout_started_at         10000 non-null  datetime64[ns]\n",
      " 5   credit_decision_started_at  10000 non-null  datetime64[ns]\n",
      " 6   approved_for_installments   10000 non-null  bool          \n",
      " 7   customer_credit_score       10000 non-null  int64         \n",
      " 8   customer_age                10000 non-null  int64         \n",
      " 9   customer_billing_zip        9989 non-null   object        \n",
      " 10  customer_shipping_zip       9977 non-null   object        \n",
      " 11  paid_installment_1          9998 non-null   float64       \n",
      " 12  paid_installment_2          10000 non-null  int64         \n",
      " 13  paid_installment_3          9996 non-null   float64       \n",
      " 14  paid_installment_4          9423 non-null   float64       \n",
      "dtypes: bool(1), datetime64[ns](2), float64(4), int64(3), object(5)\n",
      "memory usage: 1.1+ MB\n"
     ]
    }
   ],
   "source": [
    "df.info()"
   ]
  },
  {
   "cell_type": "markdown",
   "metadata": {},
   "source": [
    "# Exploratory Data Analysis\n",
    "\n",
    "Let's begin some exploratory data analysis. \n",
    "It is clearly observe that there are missing vaues in following columns:\n",
    "-customer_billing_zip\n",
    "-customer_shipping_zip\n",
    "-paid_installment_1\n",
    "-paid_installment_3\n",
    "-paid_installment_4\n",
    "Hence, we need to fix them.  \n",
    "\n",
    "Also, there are categorical values present in following columns: \n",
    "-order_id\n",
    "-customer_id\n",
    "-merchant_id\n",
    "-customer_billing_zip\n",
    "-customer_shipping_zip\n",
    "\n",
    "There are two columns having data types- datetime and bool, we will also deal with them in further steps.\n",
    "We will explore other columns as well to make sure our final data is best suited to provide good effciency while using machine learning algorithms.\n",
    "\n",
    "We'll start by checking out missing data!"
   ]
  },
  {
   "cell_type": "code",
   "execution_count": 9,
   "metadata": {},
   "outputs": [
    {
     "data": {
      "text/plain": [
       "0"
      ]
     },
     "execution_count": 9,
     "metadata": {},
     "output_type": "execute_result"
    }
   ],
   "source": [
    "#Checking duplicate values in data set\n",
    "Duplicate= df.duplicated()\n",
    "Duplicate.sum()"
   ]
  },
  {
   "cell_type": "markdown",
   "metadata": {},
   "source": [
    "MISSING VALUES\n",
    "We can use seaborn to create a simple heatmap to see where we are missing data."
   ]
  },
  {
   "cell_type": "code",
   "execution_count": 10,
   "metadata": {},
   "outputs": [
    {
     "data": {
      "text/plain": [
       "<AxesSubplot:>"
      ]
     },
     "execution_count": 10,
     "metadata": {},
     "output_type": "execute_result"
    },
    {
     "data": {
      "image/png": "[encoded data removed]",
      "text/plain": [
       "<Figure size 432x288 with 1 Axes>"
      ]
     },
     "metadata": {
      "needs_background": "light"
     },
     "output_type": "display_data"
    }
   ],
   "source": [
    "sns.heatmap(df.isnull(),yticklabels=False,cbar=False,cmap='viridis')"
   ]
  },
  {
   "cell_type": "markdown",
   "metadata": {},
   "source": [
    "#We can observe that feature 'paid_installment_4' has the maximum null values.  \n",
    "Let's handle null values for customer_billing_zip and customer_shipping_zip first and then move on to other features"
   ]
  },
  {
   "cell_type": "code",
   "execution_count": 11,
   "metadata": {},
   "outputs": [
    {
     "data": {
      "text/plain": [
       "5529"
      ]
     },
     "execution_count": 11,
     "metadata": {},
     "output_type": "execute_result"
    }
   ],
   "source": [
    "df['customer_billing_zip'].nunique()"
   ]
  },
  {
   "cell_type": "code",
   "execution_count": 12,
   "metadata": {},
   "outputs": [
    {
     "data": {
      "text/plain": [
       "11236         18\n",
       "11221         14\n",
       "90046         14\n",
       "35490         12\n",
       "95148         12\n",
       "              ..\n",
       "73139          1\n",
       "11704          1\n",
       "11706          1\n",
       "29412-8287     1\n",
       "47834          1\n",
       "Name: customer_billing_zip, Length: 5529, dtype: int64"
      ]
     },
     "execution_count": 12,
     "metadata": {},
     "output_type": "execute_result"
    }
   ],
   "source": [
    "df['customer_billing_zip'].value_counts()"
   ]
  },
  {
   "cell_type": "code",
   "execution_count": 13,
   "metadata": {},
   "outputs": [
    {
     "data": {
      "text/html": [
       "<div>\n",
       "<style scoped>\n",
       "    .dataframe tbody tr th:only-of-type {\n",
       "        vertical-align: middle;\n",
       "    }\n",
       "\n",
       "    .dataframe tbody tr th {\n",
       "        vertical-align: top;\n",
       "    }\n",
       "\n",
       "    .dataframe thead th {\n",
       "        text-align: right;\n",
       "    }\n",
       "</style>\n",
       "<table border=\"1\" class=\"dataframe\">\n",
       "  <thead>\n",
       "    <tr style=\"text-align: right;\">\n",
       "      <th></th>\n",
       "      <th>order_id</th>\n",
       "      <th>customer_id</th>\n",
       "      <th>merchant_id</th>\n",
       "      <th>order_amount</th>\n",
       "      <th>checkout_started_at</th>\n",
       "      <th>credit_decision_started_at</th>\n",
       "      <th>approved_for_installments</th>\n",
       "      <th>customer_credit_score</th>\n",
       "      <th>customer_age</th>\n",
       "      <th>customer_billing_zip</th>\n",
       "      <th>customer_shipping_zip</th>\n",
       "      <th>paid_installment_1</th>\n",
       "      <th>paid_installment_2</th>\n",
       "      <th>paid_installment_3</th>\n",
       "      <th>paid_installment_4</th>\n",
       "    </tr>\n",
       "  </thead>\n",
       "  <tbody>\n",
       "    <tr>\n",
       "      <th>0</th>\n",
       "      <td>42C39B</td>\n",
       "      <td>9D74A0</td>\n",
       "      <td>6881F9</td>\n",
       "      <td>147.20</td>\n",
       "      <td>2018-10-03 14:26:18.497</td>\n",
       "      <td>2018-10-03 14:26:18.997</td>\n",
       "      <td>True</td>\n",
       "      <td>626</td>\n",
       "      <td>26</td>\n",
       "      <td>1</td>\n",
       "      <td>95407</td>\n",
       "      <td>1.0</td>\n",
       "      <td>1</td>\n",
       "      <td>1.0</td>\n",
       "      <td>1.0</td>\n",
       "    </tr>\n",
       "    <tr>\n",
       "      <th>1</th>\n",
       "      <td>A19AC4</td>\n",
       "      <td>2629AB</td>\n",
       "      <td>C37828</td>\n",
       "      <td>69.95</td>\n",
       "      <td>2018-09-21 16:55:03.443</td>\n",
       "      <td>2018-09-21 16:55:05.100</td>\n",
       "      <td>True</td>\n",
       "      <td>603</td>\n",
       "      <td>20</td>\n",
       "      <td>2</td>\n",
       "      <td>85007</td>\n",
       "      <td>1.0</td>\n",
       "      <td>1</td>\n",
       "      <td>1.0</td>\n",
       "      <td>1.0</td>\n",
       "    </tr>\n",
       "    <tr>\n",
       "      <th>2</th>\n",
       "      <td>381AFF</td>\n",
       "      <td>793FE0</td>\n",
       "      <td>252600000000</td>\n",
       "      <td>45.00</td>\n",
       "      <td>2018-09-15 13:41:46.103</td>\n",
       "      <td>2018-09-15 13:41:47.197</td>\n",
       "      <td>True</td>\n",
       "      <td>648</td>\n",
       "      <td>41</td>\n",
       "      <td>3</td>\n",
       "      <td>30305-2646</td>\n",
       "      <td>1.0</td>\n",
       "      <td>1</td>\n",
       "      <td>1.0</td>\n",
       "      <td>1.0</td>\n",
       "    </tr>\n",
       "    <tr>\n",
       "      <th>3</th>\n",
       "      <td>3184A3</td>\n",
       "      <td>22C696</td>\n",
       "      <td>24FBAF</td>\n",
       "      <td>164.00</td>\n",
       "      <td>2018-10-10 00:59:25.793</td>\n",
       "      <td>2018-10-10 00:59:26.123</td>\n",
       "      <td>True</td>\n",
       "      <td>625</td>\n",
       "      <td>33</td>\n",
       "      <td>4</td>\n",
       "      <td>28562</td>\n",
       "      <td>1.0</td>\n",
       "      <td>1</td>\n",
       "      <td>1.0</td>\n",
       "      <td>1.0</td>\n",
       "    </tr>\n",
       "    <tr>\n",
       "      <th>4</th>\n",
       "      <td>237711</td>\n",
       "      <td>D4E94A</td>\n",
       "      <td>6F498E</td>\n",
       "      <td>69.17</td>\n",
       "      <td>2018-09-12 22:53:08.970</td>\n",
       "      <td>2018-09-12 22:53:10.923</td>\n",
       "      <td>True</td>\n",
       "      <td>438</td>\n",
       "      <td>18</td>\n",
       "      <td>5</td>\n",
       "      <td>92324</td>\n",
       "      <td>1.0</td>\n",
       "      <td>1</td>\n",
       "      <td>1.0</td>\n",
       "      <td>1.0</td>\n",
       "    </tr>\n",
       "  </tbody>\n",
       "</table>\n",
       "</div>"
      ],
      "text/plain": [
       "  order_id customer_id   merchant_id  order_amount     checkout_started_at  \\\n",
       "0   42C39B      9D74A0        6881F9        147.20 2018-10-03 14:26:18.497   \n",
       "1   A19AC4      2629AB        C37828         69.95 2018-09-21 16:55:03.443   \n",
       "2   381AFF      793FE0  252600000000         45.00 2018-09-15 13:41:46.103   \n",
       "3   3184A3      22C696        24FBAF        164.00 2018-10-10 00:59:25.793   \n",
       "4   237711      D4E94A        6F498E         69.17 2018-09-12 22:53:08.970   \n",
       "\n",
       "  credit_decision_started_at  approved_for_installments  \\\n",
       "0    2018-10-03 14:26:18.997                       True   \n",
       "1    2018-09-21 16:55:05.100                       True   \n",
       "2    2018-09-15 13:41:47.197                       True   \n",
       "3    2018-10-10 00:59:26.123                       True   \n",
       "4    2018-09-12 22:53:10.923                       True   \n",
       "\n",
       "   customer_credit_score  customer_age  customer_billing_zip  \\\n",
       "0                    626            26                     1   \n",
       "1                    603            20                     2   \n",
       "2                    648            41                     3   \n",
       "3                    625            33                     4   \n",
       "4                    438            18                     5   \n",
       "\n",
       "  customer_shipping_zip  paid_installment_1  paid_installment_2  \\\n",
       "0                 95407                 1.0                   1   \n",
       "1                 85007                 1.0                   1   \n",
       "2            30305-2646                 1.0                   1   \n",
       "3                 28562                 1.0                   1   \n",
       "4                 92324                 1.0                   1   \n",
       "\n",
       "   paid_installment_3  paid_installment_4  \n",
       "0                 1.0                 1.0  \n",
       "1                 1.0                 1.0  \n",
       "2                 1.0                 1.0  \n",
       "3                 1.0                 1.0  \n",
       "4                 1.0                 1.0  "
      ]
     },
     "execution_count": 13,
     "metadata": {},
     "output_type": "execute_result"
    }
   ],
   "source": [
    "#label encoding\n",
    "customer_billing= dict(zip(df['customer_billing_zip'] ,pd.factorize(df['customer_billing_zip'])[0]+1 ))\n",
    "df['customer_billing_zip'] = df['customer_billing_zip'].map(customer_billing)\n",
    "df.head() "
   ]
  },
  {
   "cell_type": "code",
   "execution_count": 14,
   "metadata": {},
   "outputs": [
    {
     "data": {
      "text/plain": [
       "5488"
      ]
     },
     "execution_count": 14,
     "metadata": {},
     "output_type": "execute_result"
    }
   ],
   "source": [
    "df['customer_shipping_zip'].nunique()"
   ]
  },
  {
   "cell_type": "code",
   "execution_count": 15,
   "metadata": {},
   "outputs": [
    {
     "data": {
      "text/html": [
       "<div>\n",
       "<style scoped>\n",
       "    .dataframe tbody tr th:only-of-type {\n",
       "        vertical-align: middle;\n",
       "    }\n",
       "\n",
       "    .dataframe tbody tr th {\n",
       "        vertical-align: top;\n",
       "    }\n",
       "\n",
       "    .dataframe thead th {\n",
       "        text-align: right;\n",
       "    }\n",
       "</style>\n",
       "<table border=\"1\" class=\"dataframe\">\n",
       "  <thead>\n",
       "    <tr style=\"text-align: right;\">\n",
       "      <th></th>\n",
       "      <th>order_id</th>\n",
       "      <th>customer_id</th>\n",
       "      <th>merchant_id</th>\n",
       "      <th>order_amount</th>\n",
       "      <th>checkout_started_at</th>\n",
       "      <th>credit_decision_started_at</th>\n",
       "      <th>approved_for_installments</th>\n",
       "      <th>customer_credit_score</th>\n",
       "      <th>customer_age</th>\n",
       "      <th>customer_billing_zip</th>\n",
       "      <th>customer_shipping_zip</th>\n",
       "      <th>paid_installment_1</th>\n",
       "      <th>paid_installment_2</th>\n",
       "      <th>paid_installment_3</th>\n",
       "      <th>paid_installment_4</th>\n",
       "    </tr>\n",
       "  </thead>\n",
       "  <tbody>\n",
       "    <tr>\n",
       "      <th>0</th>\n",
       "      <td>42C39B</td>\n",
       "      <td>9D74A0</td>\n",
       "      <td>6881F9</td>\n",
       "      <td>147.20</td>\n",
       "      <td>2018-10-03 14:26:18.497</td>\n",
       "      <td>2018-10-03 14:26:18.997</td>\n",
       "      <td>True</td>\n",
       "      <td>626</td>\n",
       "      <td>26</td>\n",
       "      <td>1</td>\n",
       "      <td>1</td>\n",
       "      <td>1.0</td>\n",
       "      <td>1</td>\n",
       "      <td>1.0</td>\n",
       "      <td>1.0</td>\n",
       "    </tr>\n",
       "    <tr>\n",
       "      <th>1</th>\n",
       "      <td>A19AC4</td>\n",
       "      <td>2629AB</td>\n",
       "      <td>C37828</td>\n",
       "      <td>69.95</td>\n",
       "      <td>2018-09-21 16:55:03.443</td>\n",
       "      <td>2018-09-21 16:55:05.100</td>\n",
       "      <td>True</td>\n",
       "      <td>603</td>\n",
       "      <td>20</td>\n",
       "      <td>2</td>\n",
       "      <td>2</td>\n",
       "      <td>1.0</td>\n",
       "      <td>1</td>\n",
       "      <td>1.0</td>\n",
       "      <td>1.0</td>\n",
       "    </tr>\n",
       "    <tr>\n",
       "      <th>2</th>\n",
       "      <td>381AFF</td>\n",
       "      <td>793FE0</td>\n",
       "      <td>252600000000</td>\n",
       "      <td>45.00</td>\n",
       "      <td>2018-09-15 13:41:46.103</td>\n",
       "      <td>2018-09-15 13:41:47.197</td>\n",
       "      <td>True</td>\n",
       "      <td>648</td>\n",
       "      <td>41</td>\n",
       "      <td>3</td>\n",
       "      <td>3</td>\n",
       "      <td>1.0</td>\n",
       "      <td>1</td>\n",
       "      <td>1.0</td>\n",
       "      <td>1.0</td>\n",
       "    </tr>\n",
       "    <tr>\n",
       "      <th>3</th>\n",
       "      <td>3184A3</td>\n",
       "      <td>22C696</td>\n",
       "      <td>24FBAF</td>\n",
       "      <td>164.00</td>\n",
       "      <td>2018-10-10 00:59:25.793</td>\n",
       "      <td>2018-10-10 00:59:26.123</td>\n",
       "      <td>True</td>\n",
       "      <td>625</td>\n",
       "      <td>33</td>\n",
       "      <td>4</td>\n",
       "      <td>4</td>\n",
       "      <td>1.0</td>\n",
       "      <td>1</td>\n",
       "      <td>1.0</td>\n",
       "      <td>1.0</td>\n",
       "    </tr>\n",
       "    <tr>\n",
       "      <th>4</th>\n",
       "      <td>237711</td>\n",
       "      <td>D4E94A</td>\n",
       "      <td>6F498E</td>\n",
       "      <td>69.17</td>\n",
       "      <td>2018-09-12 22:53:08.970</td>\n",
       "      <td>2018-09-12 22:53:10.923</td>\n",
       "      <td>True</td>\n",
       "      <td>438</td>\n",
       "      <td>18</td>\n",
       "      <td>5</td>\n",
       "      <td>5</td>\n",
       "      <td>1.0</td>\n",
       "      <td>1</td>\n",
       "      <td>1.0</td>\n",
       "      <td>1.0</td>\n",
       "    </tr>\n",
       "  </tbody>\n",
       "</table>\n",
       "</div>"
      ],
      "text/plain": [
       "  order_id customer_id   merchant_id  order_amount     checkout_started_at  \\\n",
       "0   42C39B      9D74A0        6881F9        147.20 2018-10-03 14:26:18.497   \n",
       "1   A19AC4      2629AB        C37828         69.95 2018-09-21 16:55:03.443   \n",
       "2   381AFF      793FE0  252600000000         45.00 2018-09-15 13:41:46.103   \n",
       "3   3184A3      22C696        24FBAF        164.00 2018-10-10 00:59:25.793   \n",
       "4   237711      D4E94A        6F498E         69.17 2018-09-12 22:53:08.970   \n",
       "\n",
       "  credit_decision_started_at  approved_for_installments  \\\n",
       "0    2018-10-03 14:26:18.997                       True   \n",
       "1    2018-09-21 16:55:05.100                       True   \n",
       "2    2018-09-15 13:41:47.197                       True   \n",
       "3    2018-10-10 00:59:26.123                       True   \n",
       "4    2018-09-12 22:53:10.923                       True   \n",
       "\n",
       "   customer_credit_score  customer_age  customer_billing_zip  \\\n",
       "0                    626            26                     1   \n",
       "1                    603            20                     2   \n",
       "2                    648            41                     3   \n",
       "3                    625            33                     4   \n",
       "4                    438            18                     5   \n",
       "\n",
       "   customer_shipping_zip  paid_installment_1  paid_installment_2  \\\n",
       "0                      1                 1.0                   1   \n",
       "1                      2                 1.0                   1   \n",
       "2                      3                 1.0                   1   \n",
       "3                      4                 1.0                   1   \n",
       "4                      5                 1.0                   1   \n",
       "\n",
       "   paid_installment_3  paid_installment_4  \n",
       "0                 1.0                 1.0  \n",
       "1                 1.0                 1.0  \n",
       "2                 1.0                 1.0  \n",
       "3                 1.0                 1.0  \n",
       "4                 1.0                 1.0  "
      ]
     },
     "execution_count": 15,
     "metadata": {},
     "output_type": "execute_result"
    }
   ],
   "source": [
    "#label encoding\n",
    "customer_zip= dict(zip(df['customer_shipping_zip'] ,pd.factorize(df['customer_shipping_zip'])[0]+1 ))\n",
    "df['customer_shipping_zip'] = df['customer_shipping_zip'].map(customer_zip)\n",
    "df.head()  "
   ]
  },
  {
   "cell_type": "code",
   "execution_count": 16,
   "metadata": {},
   "outputs": [
    {
     "data": {
      "text/plain": [
       "0       23\n",
       "509     17\n",
       "757     15\n",
       "725     14\n",
       "2958    14\n",
       "        ..\n",
       "5329     1\n",
       "3282     1\n",
       "4946     1\n",
       "5337     1\n",
       "2047     1\n",
       "Name: customer_shipping_zip, Length: 5489, dtype: int64"
      ]
     },
     "execution_count": 16,
     "metadata": {},
     "output_type": "execute_result"
    }
   ],
   "source": [
    "df['customer_shipping_zip'].value_counts()"
   ]
  },
  {
   "cell_type": "markdown",
   "metadata": {},
   "source": [
    "#Since customer_billing_zip and customer_shipping_zip features contain demographic information, let's replace the null values with new feature 'NULL'"
   ]
  },
  {
   "cell_type": "code",
   "execution_count": 17,
   "metadata": {},
   "outputs": [],
   "source": [
    "df['customer_billing_zip']= df['customer_billing_zip'].fillna('NULL')\n",
    "df['customer_shipping_zip']= df['customer_shipping_zip'].fillna('NULL')"
   ]
  },
  {
   "cell_type": "code",
   "execution_count": 18,
   "metadata": {},
   "outputs": [
    {
     "data": {
      "text/plain": [
       "0"
      ]
     },
     "execution_count": 18,
     "metadata": {},
     "output_type": "execute_result"
    }
   ],
   "source": [
    "#Checking null values after replacement\n",
    "df['customer_billing_zip'].isnull().sum()"
   ]
  },
  {
   "cell_type": "code",
   "execution_count": 19,
   "metadata": {},
   "outputs": [
    {
     "data": {
      "text/plain": [
       "0"
      ]
     },
     "execution_count": 19,
     "metadata": {},
     "output_type": "execute_result"
    }
   ],
   "source": [
    "#Checking null values after replacement\n",
    "df['customer_shipping_zip'].isnull().sum()"
   ]
  },
  {
   "cell_type": "markdown",
   "metadata": {},
   "source": [
    "Handling null values for paid_installment_1, paid_installment_3 and paid_installment_4. Since the data is very limited, we can replace the null values for features as 1- Customers have paid their installments.\n",
    "An order is considered in defaulted if any of the installments have not been paid."
   ]
  },
  {
   "cell_type": "code",
   "execution_count": 20,
   "metadata": {},
   "outputs": [
    {
     "data": {
      "text/plain": [
       "1.0    9998\n",
       "Name: paid_installment_1, dtype: int64"
      ]
     },
     "execution_count": 20,
     "metadata": {},
     "output_type": "execute_result"
    }
   ],
   "source": [
    "df['paid_installment_1'].value_counts()"
   ]
  },
  {
   "cell_type": "code",
   "execution_count": 21,
   "metadata": {},
   "outputs": [
    {
     "data": {
      "text/plain": [
       "1.0    9593\n",
       "0.0     403\n",
       "Name: paid_installment_3, dtype: int64"
      ]
     },
     "execution_count": 21,
     "metadata": {},
     "output_type": "execute_result"
    }
   ],
   "source": [
    "df['paid_installment_3'].value_counts()"
   ]
  },
  {
   "cell_type": "code",
   "execution_count": 22,
   "metadata": {},
   "outputs": [
    {
     "data": {
      "text/plain": [
       "1.0    8861\n",
       "0.0     562\n",
       "Name: paid_installment_4, dtype: int64"
      ]
     },
     "execution_count": 22,
     "metadata": {},
     "output_type": "execute_result"
    }
   ],
   "source": [
    "df['paid_installment_4'].value_counts()"
   ]
  },
  {
   "cell_type": "markdown",
   "metadata": {},
   "source": [
    "Replacing all the null values in all installment features as 1. \n",
    "Removing the data would result in loss of information as the dataset is already small.\n",
    "We can see that maximum number of null values are there in paid_installment_4 feature. \n",
    "We can assume that some customers have only opted for 3 installments. "
   ]
  },
  {
   "cell_type": "code",
   "execution_count": 23,
   "metadata": {},
   "outputs": [],
   "source": [
    "df['paid_installment_1']= df['paid_installment_1'].fillna(1)\n",
    "df['paid_installment_3']= df['paid_installment_3'].fillna(1)\n",
    "df['paid_installment_4']= df['paid_installment_4'].fillna(1)"
   ]
  },
  {
   "cell_type": "code",
   "execution_count": 24,
   "metadata": {},
   "outputs": [
    {
     "data": {
      "text/plain": [
       "0"
      ]
     },
     "execution_count": 24,
     "metadata": {},
     "output_type": "execute_result"
    }
   ],
   "source": [
    "#Checking null vallues in one the installment feature\n",
    "df['paid_installment_1'].isnull().sum()"
   ]
  },
  {
   "cell_type": "code",
   "execution_count": 25,
   "metadata": {},
   "outputs": [],
   "source": [
    "df= df.eval('sum_installment= paid_installment_1+paid_installment_2+paid_installment_3+paid_installment_4')"
   ]
  },
  {
   "cell_type": "code",
   "execution_count": 26,
   "metadata": {},
   "outputs": [],
   "source": [
    "#Creating target feature \n",
    "#create a list of our conditions\n",
    "conditions = [\n",
    "    (df['sum_installment']==4),    \n",
    "    (df['sum_installment']<4)]\n",
    "#create a list of the values we want to assign for each condition\n",
    "values = [1, 0]\n",
    "\n",
    "#create a new column and use np.select to assign values to it using our lists as arguments\n",
    "df['dependent_feature'] = np.select(conditions, values)"
   ]
  },
  {
   "cell_type": "code",
   "execution_count": 27,
   "metadata": {},
   "outputs": [
    {
     "data": {
      "text/html": [
       "<div>\n",
       "<style scoped>\n",
       "    .dataframe tbody tr th:only-of-type {\n",
       "        vertical-align: middle;\n",
       "    }\n",
       "\n",
       "    .dataframe tbody tr th {\n",
       "        vertical-align: top;\n",
       "    }\n",
       "\n",
       "    .dataframe thead th {\n",
       "        text-align: right;\n",
       "    }\n",
       "</style>\n",
       "<table border=\"1\" class=\"dataframe\">\n",
       "  <thead>\n",
       "    <tr style=\"text-align: right;\">\n",
       "      <th></th>\n",
       "      <th>order_id</th>\n",
       "      <th>customer_id</th>\n",
       "      <th>merchant_id</th>\n",
       "      <th>order_amount</th>\n",
       "      <th>checkout_started_at</th>\n",
       "      <th>credit_decision_started_at</th>\n",
       "      <th>approved_for_installments</th>\n",
       "      <th>customer_credit_score</th>\n",
       "      <th>customer_age</th>\n",
       "      <th>customer_billing_zip</th>\n",
       "      <th>customer_shipping_zip</th>\n",
       "      <th>paid_installment_1</th>\n",
       "      <th>paid_installment_2</th>\n",
       "      <th>paid_installment_3</th>\n",
       "      <th>paid_installment_4</th>\n",
       "      <th>sum_installment</th>\n",
       "      <th>dependent_feature</th>\n",
       "    </tr>\n",
       "  </thead>\n",
       "  <tbody>\n",
       "    <tr>\n",
       "      <th>0</th>\n",
       "      <td>42C39B</td>\n",
       "      <td>9D74A0</td>\n",
       "      <td>6881F9</td>\n",
       "      <td>147.20</td>\n",
       "      <td>2018-10-03 14:26:18.497</td>\n",
       "      <td>2018-10-03 14:26:18.997</td>\n",
       "      <td>True</td>\n",
       "      <td>626</td>\n",
       "      <td>26</td>\n",
       "      <td>1</td>\n",
       "      <td>1</td>\n",
       "      <td>1.0</td>\n",
       "      <td>1</td>\n",
       "      <td>1.0</td>\n",
       "      <td>1.0</td>\n",
       "      <td>4.0</td>\n",
       "      <td>1</td>\n",
       "    </tr>\n",
       "    <tr>\n",
       "      <th>1</th>\n",
       "      <td>A19AC4</td>\n",
       "      <td>2629AB</td>\n",
       "      <td>C37828</td>\n",
       "      <td>69.95</td>\n",
       "      <td>2018-09-21 16:55:03.443</td>\n",
       "      <td>2018-09-21 16:55:05.100</td>\n",
       "      <td>True</td>\n",
       "      <td>603</td>\n",
       "      <td>20</td>\n",
       "      <td>2</td>\n",
       "      <td>2</td>\n",
       "      <td>1.0</td>\n",
       "      <td>1</td>\n",
       "      <td>1.0</td>\n",
       "      <td>1.0</td>\n",
       "      <td>4.0</td>\n",
       "      <td>1</td>\n",
       "    </tr>\n",
       "    <tr>\n",
       "      <th>2</th>\n",
       "      <td>381AFF</td>\n",
       "      <td>793FE0</td>\n",
       "      <td>252600000000</td>\n",
       "      <td>45.00</td>\n",
       "      <td>2018-09-15 13:41:46.103</td>\n",
       "      <td>2018-09-15 13:41:47.197</td>\n",
       "      <td>True</td>\n",
       "      <td>648</td>\n",
       "      <td>41</td>\n",
       "      <td>3</td>\n",
       "      <td>3</td>\n",
       "      <td>1.0</td>\n",
       "      <td>1</td>\n",
       "      <td>1.0</td>\n",
       "      <td>1.0</td>\n",
       "      <td>4.0</td>\n",
       "      <td>1</td>\n",
       "    </tr>\n",
       "    <tr>\n",
       "      <th>3</th>\n",
       "      <td>3184A3</td>\n",
       "      <td>22C696</td>\n",
       "      <td>24FBAF</td>\n",
       "      <td>164.00</td>\n",
       "      <td>2018-10-10 00:59:25.793</td>\n",
       "      <td>2018-10-10 00:59:26.123</td>\n",
       "      <td>True</td>\n",
       "      <td>625</td>\n",
       "      <td>33</td>\n",
       "      <td>4</td>\n",
       "      <td>4</td>\n",
       "      <td>1.0</td>\n",
       "      <td>1</td>\n",
       "      <td>1.0</td>\n",
       "      <td>1.0</td>\n",
       "      <td>4.0</td>\n",
       "      <td>1</td>\n",
       "    </tr>\n",
       "    <tr>\n",
       "      <th>4</th>\n",
       "      <td>237711</td>\n",
       "      <td>D4E94A</td>\n",
       "      <td>6F498E</td>\n",
       "      <td>69.17</td>\n",
       "      <td>2018-09-12 22:53:08.970</td>\n",
       "      <td>2018-09-12 22:53:10.923</td>\n",
       "      <td>True</td>\n",
       "      <td>438</td>\n",
       "      <td>18</td>\n",
       "      <td>5</td>\n",
       "      <td>5</td>\n",
       "      <td>1.0</td>\n",
       "      <td>1</td>\n",
       "      <td>1.0</td>\n",
       "      <td>1.0</td>\n",
       "      <td>4.0</td>\n",
       "      <td>1</td>\n",
       "    </tr>\n",
       "  </tbody>\n",
       "</table>\n",
       "</div>"
      ],
      "text/plain": [
       "  order_id customer_id   merchant_id  order_amount     checkout_started_at  \\\n",
       "0   42C39B      9D74A0        6881F9        147.20 2018-10-03 14:26:18.497   \n",
       "1   A19AC4      2629AB        C37828         69.95 2018-09-21 16:55:03.443   \n",
       "2   381AFF      793FE0  252600000000         45.00 2018-09-15 13:41:46.103   \n",
       "3   3184A3      22C696        24FBAF        164.00 2018-10-10 00:59:25.793   \n",
       "4   237711      D4E94A        6F498E         69.17 2018-09-12 22:53:08.970   \n",
       "\n",
       "  credit_decision_started_at  approved_for_installments  \\\n",
       "0    2018-10-03 14:26:18.997                       True   \n",
       "1    2018-09-21 16:55:05.100                       True   \n",
       "2    2018-09-15 13:41:47.197                       True   \n",
       "3    2018-10-10 00:59:26.123                       True   \n",
       "4    2018-09-12 22:53:10.923                       True   \n",
       "\n",
       "   customer_credit_score  customer_age  customer_billing_zip  \\\n",
       "0                    626            26                     1   \n",
       "1                    603            20                     2   \n",
       "2                    648            41                     3   \n",
       "3                    625            33                     4   \n",
       "4                    438            18                     5   \n",
       "\n",
       "   customer_shipping_zip  paid_installment_1  paid_installment_2  \\\n",
       "0                      1                 1.0                   1   \n",
       "1                      2                 1.0                   1   \n",
       "2                      3                 1.0                   1   \n",
       "3                      4                 1.0                   1   \n",
       "4                      5                 1.0                   1   \n",
       "\n",
       "   paid_installment_3  paid_installment_4  sum_installment  dependent_feature  \n",
       "0                 1.0                 1.0              4.0                  1  \n",
       "1                 1.0                 1.0              4.0                  1  \n",
       "2                 1.0                 1.0              4.0                  1  \n",
       "3                 1.0                 1.0              4.0                  1  \n",
       "4                 1.0                 1.0              4.0                  1  "
      ]
     },
     "execution_count": 27,
     "metadata": {},
     "output_type": "execute_result"
    }
   ],
   "source": [
    "df.head()"
   ]
  },
  {
   "cell_type": "code",
   "execution_count": 28,
   "metadata": {},
   "outputs": [
    {
     "data": {
      "text/plain": [
       "4.0    9306\n",
       "3.0     342\n",
       "2.0     212\n",
       "1.0     140\n",
       "Name: sum_installment, dtype: int64"
      ]
     },
     "execution_count": 28,
     "metadata": {},
     "output_type": "execute_result"
    }
   ],
   "source": [
    "df['sum_installment'].value_counts()"
   ]
  },
  {
   "cell_type": "code",
   "execution_count": 29,
   "metadata": {},
   "outputs": [
    {
     "data": {
      "text/plain": [
       "1    9306\n",
       "0     694\n",
       "Name: dependent_feature, dtype: int64"
      ]
     },
     "execution_count": 29,
     "metadata": {},
     "output_type": "execute_result"
    }
   ],
   "source": [
    "df['dependent_feature'].value_counts()"
   ]
  },
  {
   "cell_type": "code",
   "execution_count": 30,
   "metadata": {},
   "outputs": [],
   "source": [
    "df.drop('sum_installment',axis='columns', inplace=True)"
   ]
  },
  {
   "cell_type": "code",
   "execution_count": 31,
   "metadata": {},
   "outputs": [
    {
     "name": "stdout",
     "output_type": "stream",
     "text": [
      "<class 'pandas.core.frame.DataFrame'>\n",
      "RangeIndex: 10000 entries, 0 to 9999\n",
      "Data columns (total 16 columns):\n",
      " #   Column                      Non-Null Count  Dtype         \n",
      "---  ------                      --------------  -----         \n",
      " 0   order_id                    10000 non-null  object        \n",
      " 1   customer_id                 10000 non-null  object        \n",
      " 2   merchant_id                 10000 non-null  object        \n",
      " 3   order_amount                10000 non-null  float64       \n",
      " 4   checkout_started_at         10000 non-null  datetime64[ns]\n",
      " 5   credit_decision_started_at  10000 non-null  datetime64[ns]\n",
      " 6   approved_for_installments   10000 non-null  bool          \n",
      " 7   customer_credit_score       10000 non-null  int64         \n",
      " 8   customer_age                10000 non-null  int64         \n",
      " 9   customer_billing_zip        10000 non-null  int64         \n",
      " 10  customer_shipping_zip       10000 non-null  int64         \n",
      " 11  paid_installment_1          10000 non-null  float64       \n",
      " 12  paid_installment_2          10000 non-null  int64         \n",
      " 13  paid_installment_3          10000 non-null  float64       \n",
      " 14  paid_installment_4          10000 non-null  float64       \n",
      " 15  dependent_feature           10000 non-null  int32         \n",
      "dtypes: bool(1), datetime64[ns](2), float64(4), int32(1), int64(5), object(3)\n",
      "memory usage: 1.1+ MB\n"
     ]
    }
   ],
   "source": [
    "#Checking null-values in all columns after updates.\n",
    "df.info()"
   ]
  },
  {
   "cell_type": "code",
   "execution_count": 32,
   "metadata": {},
   "outputs": [
    {
     "data": {
      "text/plain": [
       "True    10000\n",
       "Name: approved_for_installments, dtype: int64"
      ]
     },
     "execution_count": 32,
     "metadata": {},
     "output_type": "execute_result"
    }
   ],
   "source": [
    "#Checking values of approval_for_installments column (all should be true). We can drop this column as it doesnot add value. \n",
    "df['approved_for_installments'].value_counts()"
   ]
  },
  {
   "cell_type": "code",
   "execution_count": 33,
   "metadata": {},
   "outputs": [],
   "source": [
    "df.drop('approved_for_installments',axis='columns', inplace=True)"
   ]
  },
  {
   "cell_type": "code",
   "execution_count": 34,
   "metadata": {},
   "outputs": [
    {
     "data": {
      "text/html": [
       "<div>\n",
       "<style scoped>\n",
       "    .dataframe tbody tr th:only-of-type {\n",
       "        vertical-align: middle;\n",
       "    }\n",
       "\n",
       "    .dataframe tbody tr th {\n",
       "        vertical-align: top;\n",
       "    }\n",
       "\n",
       "    .dataframe thead th {\n",
       "        text-align: right;\n",
       "    }\n",
       "</style>\n",
       "<table border=\"1\" class=\"dataframe\">\n",
       "  <thead>\n",
       "    <tr style=\"text-align: right;\">\n",
       "      <th></th>\n",
       "      <th>order_id</th>\n",
       "      <th>customer_id</th>\n",
       "      <th>merchant_id</th>\n",
       "      <th>order_amount</th>\n",
       "      <th>checkout_started_at</th>\n",
       "      <th>credit_decision_started_at</th>\n",
       "      <th>customer_credit_score</th>\n",
       "      <th>customer_age</th>\n",
       "      <th>customer_billing_zip</th>\n",
       "      <th>customer_shipping_zip</th>\n",
       "      <th>paid_installment_1</th>\n",
       "      <th>paid_installment_2</th>\n",
       "      <th>paid_installment_3</th>\n",
       "      <th>paid_installment_4</th>\n",
       "      <th>dependent_feature</th>\n",
       "    </tr>\n",
       "  </thead>\n",
       "  <tbody>\n",
       "    <tr>\n",
       "      <th>0</th>\n",
       "      <td>42C39B</td>\n",
       "      <td>9D74A0</td>\n",
       "      <td>6881F9</td>\n",
       "      <td>147.20</td>\n",
       "      <td>2018-10-03 14:26:18.497</td>\n",
       "      <td>2018-10-03 14:26:18.997</td>\n",
       "      <td>626</td>\n",
       "      <td>26</td>\n",
       "      <td>1</td>\n",
       "      <td>1</td>\n",
       "      <td>1.0</td>\n",
       "      <td>1</td>\n",
       "      <td>1.0</td>\n",
       "      <td>1.0</td>\n",
       "      <td>1</td>\n",
       "    </tr>\n",
       "    <tr>\n",
       "      <th>1</th>\n",
       "      <td>A19AC4</td>\n",
       "      <td>2629AB</td>\n",
       "      <td>C37828</td>\n",
       "      <td>69.95</td>\n",
       "      <td>2018-09-21 16:55:03.443</td>\n",
       "      <td>2018-09-21 16:55:05.100</td>\n",
       "      <td>603</td>\n",
       "      <td>20</td>\n",
       "      <td>2</td>\n",
       "      <td>2</td>\n",
       "      <td>1.0</td>\n",
       "      <td>1</td>\n",
       "      <td>1.0</td>\n",
       "      <td>1.0</td>\n",
       "      <td>1</td>\n",
       "    </tr>\n",
       "    <tr>\n",
       "      <th>2</th>\n",
       "      <td>381AFF</td>\n",
       "      <td>793FE0</td>\n",
       "      <td>252600000000</td>\n",
       "      <td>45.00</td>\n",
       "      <td>2018-09-15 13:41:46.103</td>\n",
       "      <td>2018-09-15 13:41:47.197</td>\n",
       "      <td>648</td>\n",
       "      <td>41</td>\n",
       "      <td>3</td>\n",
       "      <td>3</td>\n",
       "      <td>1.0</td>\n",
       "      <td>1</td>\n",
       "      <td>1.0</td>\n",
       "      <td>1.0</td>\n",
       "      <td>1</td>\n",
       "    </tr>\n",
       "    <tr>\n",
       "      <th>3</th>\n",
       "      <td>3184A3</td>\n",
       "      <td>22C696</td>\n",
       "      <td>24FBAF</td>\n",
       "      <td>164.00</td>\n",
       "      <td>2018-10-10 00:59:25.793</td>\n",
       "      <td>2018-10-10 00:59:26.123</td>\n",
       "      <td>625</td>\n",
       "      <td>33</td>\n",
       "      <td>4</td>\n",
       "      <td>4</td>\n",
       "      <td>1.0</td>\n",
       "      <td>1</td>\n",
       "      <td>1.0</td>\n",
       "      <td>1.0</td>\n",
       "      <td>1</td>\n",
       "    </tr>\n",
       "    <tr>\n",
       "      <th>4</th>\n",
       "      <td>237711</td>\n",
       "      <td>D4E94A</td>\n",
       "      <td>6F498E</td>\n",
       "      <td>69.17</td>\n",
       "      <td>2018-09-12 22:53:08.970</td>\n",
       "      <td>2018-09-12 22:53:10.923</td>\n",
       "      <td>438</td>\n",
       "      <td>18</td>\n",
       "      <td>5</td>\n",
       "      <td>5</td>\n",
       "      <td>1.0</td>\n",
       "      <td>1</td>\n",
       "      <td>1.0</td>\n",
       "      <td>1.0</td>\n",
       "      <td>1</td>\n",
       "    </tr>\n",
       "  </tbody>\n",
       "</table>\n",
       "</div>"
      ],
      "text/plain": [
       "  order_id customer_id   merchant_id  order_amount     checkout_started_at  \\\n",
       "0   42C39B      9D74A0        6881F9        147.20 2018-10-03 14:26:18.497   \n",
       "1   A19AC4      2629AB        C37828         69.95 2018-09-21 16:55:03.443   \n",
       "2   381AFF      793FE0  252600000000         45.00 2018-09-15 13:41:46.103   \n",
       "3   3184A3      22C696        24FBAF        164.00 2018-10-10 00:59:25.793   \n",
       "4   237711      D4E94A        6F498E         69.17 2018-09-12 22:53:08.970   \n",
       "\n",
       "  credit_decision_started_at  customer_credit_score  customer_age  \\\n",
       "0    2018-10-03 14:26:18.997                    626            26   \n",
       "1    2018-09-21 16:55:05.100                    603            20   \n",
       "2    2018-09-15 13:41:47.197                    648            41   \n",
       "3    2018-10-10 00:59:26.123                    625            33   \n",
       "4    2018-09-12 22:53:10.923                    438            18   \n",
       "\n",
       "   customer_billing_zip  customer_shipping_zip  paid_installment_1  \\\n",
       "0                     1                      1                 1.0   \n",
       "1                     2                      2                 1.0   \n",
       "2                     3                      3                 1.0   \n",
       "3                     4                      4                 1.0   \n",
       "4                     5                      5                 1.0   \n",
       "\n",
       "   paid_installment_2  paid_installment_3  paid_installment_4  \\\n",
       "0                   1                 1.0                 1.0   \n",
       "1                   1                 1.0                 1.0   \n",
       "2                   1                 1.0                 1.0   \n",
       "3                   1                 1.0                 1.0   \n",
       "4                   1                 1.0                 1.0   \n",
       "\n",
       "   dependent_feature  \n",
       "0                  1  \n",
       "1                  1  \n",
       "2                  1  \n",
       "3                  1  \n",
       "4                  1  "
      ]
     },
     "execution_count": 34,
     "metadata": {},
     "output_type": "execute_result"
    }
   ],
   "source": [
    "#Approved_for_installments column has been dropped\n",
    "df.head()"
   ]
  },
  {
   "cell_type": "markdown",
   "metadata": {},
   "source": [
    "#Creating seperate features for day,month and year for credit_decision_started_at and checkout_started_at "
   ]
  },
  {
   "cell_type": "code",
   "execution_count": 35,
   "metadata": {},
   "outputs": [
    {
     "data": {
      "text/html": [
       "<div>\n",
       "<style scoped>\n",
       "    .dataframe tbody tr th:only-of-type {\n",
       "        vertical-align: middle;\n",
       "    }\n",
       "\n",
       "    .dataframe tbody tr th {\n",
       "        vertical-align: top;\n",
       "    }\n",
       "\n",
       "    .dataframe thead th {\n",
       "        text-align: right;\n",
       "    }\n",
       "</style>\n",
       "<table border=\"1\" class=\"dataframe\">\n",
       "  <thead>\n",
       "    <tr style=\"text-align: right;\">\n",
       "      <th></th>\n",
       "      <th>order_id</th>\n",
       "      <th>customer_id</th>\n",
       "      <th>merchant_id</th>\n",
       "      <th>order_amount</th>\n",
       "      <th>checkout_started_at</th>\n",
       "      <th>credit_decision_started_at</th>\n",
       "      <th>customer_credit_score</th>\n",
       "      <th>customer_age</th>\n",
       "      <th>customer_billing_zip</th>\n",
       "      <th>customer_shipping_zip</th>\n",
       "      <th>paid_installment_1</th>\n",
       "      <th>paid_installment_2</th>\n",
       "      <th>paid_installment_3</th>\n",
       "      <th>paid_installment_4</th>\n",
       "      <th>dependent_feature</th>\n",
       "      <th>day</th>\n",
       "      <th>day1</th>\n",
       "    </tr>\n",
       "  </thead>\n",
       "  <tbody>\n",
       "    <tr>\n",
       "      <th>0</th>\n",
       "      <td>42C39B</td>\n",
       "      <td>9D74A0</td>\n",
       "      <td>6881F9</td>\n",
       "      <td>147.20</td>\n",
       "      <td>2018-10-03 14:26:18.497</td>\n",
       "      <td>2018-10-03 14:26:18.997</td>\n",
       "      <td>626</td>\n",
       "      <td>26</td>\n",
       "      <td>1</td>\n",
       "      <td>1</td>\n",
       "      <td>1.0</td>\n",
       "      <td>1</td>\n",
       "      <td>1.0</td>\n",
       "      <td>1.0</td>\n",
       "      <td>1</td>\n",
       "      <td>3</td>\n",
       "      <td>3</td>\n",
       "    </tr>\n",
       "    <tr>\n",
       "      <th>1</th>\n",
       "      <td>A19AC4</td>\n",
       "      <td>2629AB</td>\n",
       "      <td>C37828</td>\n",
       "      <td>69.95</td>\n",
       "      <td>2018-09-21 16:55:03.443</td>\n",
       "      <td>2018-09-21 16:55:05.100</td>\n",
       "      <td>603</td>\n",
       "      <td>20</td>\n",
       "      <td>2</td>\n",
       "      <td>2</td>\n",
       "      <td>1.0</td>\n",
       "      <td>1</td>\n",
       "      <td>1.0</td>\n",
       "      <td>1.0</td>\n",
       "      <td>1</td>\n",
       "      <td>21</td>\n",
       "      <td>21</td>\n",
       "    </tr>\n",
       "    <tr>\n",
       "      <th>2</th>\n",
       "      <td>381AFF</td>\n",
       "      <td>793FE0</td>\n",
       "      <td>252600000000</td>\n",
       "      <td>45.00</td>\n",
       "      <td>2018-09-15 13:41:46.103</td>\n",
       "      <td>2018-09-15 13:41:47.197</td>\n",
       "      <td>648</td>\n",
       "      <td>41</td>\n",
       "      <td>3</td>\n",
       "      <td>3</td>\n",
       "      <td>1.0</td>\n",
       "      <td>1</td>\n",
       "      <td>1.0</td>\n",
       "      <td>1.0</td>\n",
       "      <td>1</td>\n",
       "      <td>15</td>\n",
       "      <td>15</td>\n",
       "    </tr>\n",
       "    <tr>\n",
       "      <th>3</th>\n",
       "      <td>3184A3</td>\n",
       "      <td>22C696</td>\n",
       "      <td>24FBAF</td>\n",
       "      <td>164.00</td>\n",
       "      <td>2018-10-10 00:59:25.793</td>\n",
       "      <td>2018-10-10 00:59:26.123</td>\n",
       "      <td>625</td>\n",
       "      <td>33</td>\n",
       "      <td>4</td>\n",
       "      <td>4</td>\n",
       "      <td>1.0</td>\n",
       "      <td>1</td>\n",
       "      <td>1.0</td>\n",
       "      <td>1.0</td>\n",
       "      <td>1</td>\n",
       "      <td>10</td>\n",
       "      <td>10</td>\n",
       "    </tr>\n",
       "    <tr>\n",
       "      <th>4</th>\n",
       "      <td>237711</td>\n",
       "      <td>D4E94A</td>\n",
       "      <td>6F498E</td>\n",
       "      <td>69.17</td>\n",
       "      <td>2018-09-12 22:53:08.970</td>\n",
       "      <td>2018-09-12 22:53:10.923</td>\n",
       "      <td>438</td>\n",
       "      <td>18</td>\n",
       "      <td>5</td>\n",
       "      <td>5</td>\n",
       "      <td>1.0</td>\n",
       "      <td>1</td>\n",
       "      <td>1.0</td>\n",
       "      <td>1.0</td>\n",
       "      <td>1</td>\n",
       "      <td>12</td>\n",
       "      <td>12</td>\n",
       "    </tr>\n",
       "  </tbody>\n",
       "</table>\n",
       "</div>"
      ],
      "text/plain": [
       "  order_id customer_id   merchant_id  order_amount     checkout_started_at  \\\n",
       "0   42C39B      9D74A0        6881F9        147.20 2018-10-03 14:26:18.497   \n",
       "1   A19AC4      2629AB        C37828         69.95 2018-09-21 16:55:03.443   \n",
       "2   381AFF      793FE0  252600000000         45.00 2018-09-15 13:41:46.103   \n",
       "3   3184A3      22C696        24FBAF        164.00 2018-10-10 00:59:25.793   \n",
       "4   237711      D4E94A        6F498E         69.17 2018-09-12 22:53:08.970   \n",
       "\n",
       "  credit_decision_started_at  customer_credit_score  customer_age  \\\n",
       "0    2018-10-03 14:26:18.997                    626            26   \n",
       "1    2018-09-21 16:55:05.100                    603            20   \n",
       "2    2018-09-15 13:41:47.197                    648            41   \n",
       "3    2018-10-10 00:59:26.123                    625            33   \n",
       "4    2018-09-12 22:53:10.923                    438            18   \n",
       "\n",
       "   customer_billing_zip  customer_shipping_zip  paid_installment_1  \\\n",
       "0                     1                      1                 1.0   \n",
       "1                     2                      2                 1.0   \n",
       "2                     3                      3                 1.0   \n",
       "3                     4                      4                 1.0   \n",
       "4                     5                      5                 1.0   \n",
       "\n",
       "   paid_installment_2  paid_installment_3  paid_installment_4  \\\n",
       "0                   1                 1.0                 1.0   \n",
       "1                   1                 1.0                 1.0   \n",
       "2                   1                 1.0                 1.0   \n",
       "3                   1                 1.0                 1.0   \n",
       "4                   1                 1.0                 1.0   \n",
       "\n",
       "   dependent_feature  day  day1  \n",
       "0                  1    3     3  \n",
       "1                  1   21    21  \n",
       "2                  1   15    15  \n",
       "3                  1   10    10  \n",
       "4                  1   12    12  "
      ]
     },
     "execution_count": 35,
     "metadata": {},
     "output_type": "execute_result"
    }
   ],
   "source": [
    "df['day'] = pd.DatetimeIndex(df['credit_decision_started_at']).day\n",
    "df['day1'] = pd.DatetimeIndex(df['checkout_started_at']).day\n",
    "df.head()"
   ]
  },
  {
   "cell_type": "code",
   "execution_count": 36,
   "metadata": {},
   "outputs": [
    {
     "data": {
      "text/plain": [
       "12    550\n",
       "4     482\n",
       "2     476\n",
       "5     457\n",
       "13    447\n",
       "1     443\n",
       "3     443\n",
       "14    437\n",
       "11    418\n",
       "29    417\n",
       "6     405\n",
       "7     397\n",
       "30    392\n",
       "10    388\n",
       "8     378\n",
       "9     374\n",
       "21    345\n",
       "28    296\n",
       "31    245\n",
       "27    236\n",
       "26    203\n",
       "25    202\n",
       "22    196\n",
       "24    196\n",
       "20    188\n",
       "23    184\n",
       "18    178\n",
       "19    172\n",
       "16    159\n",
       "15    159\n",
       "17    137\n",
       "Name: day, dtype: int64"
      ]
     },
     "execution_count": 36,
     "metadata": {},
     "output_type": "execute_result"
    }
   ],
   "source": [
    "df['day'].value_counts()"
   ]
  },
  {
   "cell_type": "code",
   "execution_count": 37,
   "metadata": {},
   "outputs": [
    {
     "data": {
      "text/plain": [
       "12    550\n",
       "4     482\n",
       "2     476\n",
       "5     457\n",
       "13    447\n",
       "1     443\n",
       "3     443\n",
       "14    437\n",
       "11    418\n",
       "29    417\n",
       "6     405\n",
       "7     397\n",
       "30    392\n",
       "10    388\n",
       "8     378\n",
       "9     374\n",
       "21    345\n",
       "28    296\n",
       "31    245\n",
       "27    236\n",
       "26    203\n",
       "25    202\n",
       "22    196\n",
       "24    196\n",
       "20    188\n",
       "23    184\n",
       "18    178\n",
       "19    172\n",
       "16    159\n",
       "15    159\n",
       "17    137\n",
       "Name: day1, dtype: int64"
      ]
     },
     "execution_count": 37,
     "metadata": {},
     "output_type": "execute_result"
    }
   ],
   "source": [
    "df['day1'].value_counts()"
   ]
  },
  {
   "cell_type": "code",
   "execution_count": 38,
   "metadata": {},
   "outputs": [
    {
     "data": {
      "text/html": [
       "<div>\n",
       "<style scoped>\n",
       "    .dataframe tbody tr th:only-of-type {\n",
       "        vertical-align: middle;\n",
       "    }\n",
       "\n",
       "    .dataframe tbody tr th {\n",
       "        vertical-align: top;\n",
       "    }\n",
       "\n",
       "    .dataframe thead th {\n",
       "        text-align: right;\n",
       "    }\n",
       "</style>\n",
       "<table border=\"1\" class=\"dataframe\">\n",
       "  <thead>\n",
       "    <tr style=\"text-align: right;\">\n",
       "      <th></th>\n",
       "      <th>order_id</th>\n",
       "      <th>customer_id</th>\n",
       "      <th>merchant_id</th>\n",
       "      <th>order_amount</th>\n",
       "      <th>checkout_started_at</th>\n",
       "      <th>credit_decision_started_at</th>\n",
       "      <th>customer_credit_score</th>\n",
       "      <th>customer_age</th>\n",
       "      <th>customer_billing_zip</th>\n",
       "      <th>customer_shipping_zip</th>\n",
       "      <th>paid_installment_1</th>\n",
       "      <th>paid_installment_2</th>\n",
       "      <th>paid_installment_3</th>\n",
       "      <th>paid_installment_4</th>\n",
       "      <th>dependent_feature</th>\n",
       "      <th>day</th>\n",
       "      <th>day1</th>\n",
       "      <th>month</th>\n",
       "      <th>month1</th>\n",
       "    </tr>\n",
       "  </thead>\n",
       "  <tbody>\n",
       "    <tr>\n",
       "      <th>0</th>\n",
       "      <td>42C39B</td>\n",
       "      <td>9D74A0</td>\n",
       "      <td>6881F9</td>\n",
       "      <td>147.20</td>\n",
       "      <td>2018-10-03 14:26:18.497</td>\n",
       "      <td>2018-10-03 14:26:18.997</td>\n",
       "      <td>626</td>\n",
       "      <td>26</td>\n",
       "      <td>1</td>\n",
       "      <td>1</td>\n",
       "      <td>1.0</td>\n",
       "      <td>1</td>\n",
       "      <td>1.0</td>\n",
       "      <td>1.0</td>\n",
       "      <td>1</td>\n",
       "      <td>3</td>\n",
       "      <td>3</td>\n",
       "      <td>10</td>\n",
       "      <td>10</td>\n",
       "    </tr>\n",
       "    <tr>\n",
       "      <th>1</th>\n",
       "      <td>A19AC4</td>\n",
       "      <td>2629AB</td>\n",
       "      <td>C37828</td>\n",
       "      <td>69.95</td>\n",
       "      <td>2018-09-21 16:55:03.443</td>\n",
       "      <td>2018-09-21 16:55:05.100</td>\n",
       "      <td>603</td>\n",
       "      <td>20</td>\n",
       "      <td>2</td>\n",
       "      <td>2</td>\n",
       "      <td>1.0</td>\n",
       "      <td>1</td>\n",
       "      <td>1.0</td>\n",
       "      <td>1.0</td>\n",
       "      <td>1</td>\n",
       "      <td>21</td>\n",
       "      <td>21</td>\n",
       "      <td>9</td>\n",
       "      <td>9</td>\n",
       "    </tr>\n",
       "    <tr>\n",
       "      <th>2</th>\n",
       "      <td>381AFF</td>\n",
       "      <td>793FE0</td>\n",
       "      <td>252600000000</td>\n",
       "      <td>45.00</td>\n",
       "      <td>2018-09-15 13:41:46.103</td>\n",
       "      <td>2018-09-15 13:41:47.197</td>\n",
       "      <td>648</td>\n",
       "      <td>41</td>\n",
       "      <td>3</td>\n",
       "      <td>3</td>\n",
       "      <td>1.0</td>\n",
       "      <td>1</td>\n",
       "      <td>1.0</td>\n",
       "      <td>1.0</td>\n",
       "      <td>1</td>\n",
       "      <td>15</td>\n",
       "      <td>15</td>\n",
       "      <td>9</td>\n",
       "      <td>9</td>\n",
       "    </tr>\n",
       "    <tr>\n",
       "      <th>3</th>\n",
       "      <td>3184A3</td>\n",
       "      <td>22C696</td>\n",
       "      <td>24FBAF</td>\n",
       "      <td>164.00</td>\n",
       "      <td>2018-10-10 00:59:25.793</td>\n",
       "      <td>2018-10-10 00:59:26.123</td>\n",
       "      <td>625</td>\n",
       "      <td>33</td>\n",
       "      <td>4</td>\n",
       "      <td>4</td>\n",
       "      <td>1.0</td>\n",
       "      <td>1</td>\n",
       "      <td>1.0</td>\n",
       "      <td>1.0</td>\n",
       "      <td>1</td>\n",
       "      <td>10</td>\n",
       "      <td>10</td>\n",
       "      <td>10</td>\n",
       "      <td>10</td>\n",
       "    </tr>\n",
       "    <tr>\n",
       "      <th>4</th>\n",
       "      <td>237711</td>\n",
       "      <td>D4E94A</td>\n",
       "      <td>6F498E</td>\n",
       "      <td>69.17</td>\n",
       "      <td>2018-09-12 22:53:08.970</td>\n",
       "      <td>2018-09-12 22:53:10.923</td>\n",
       "      <td>438</td>\n",
       "      <td>18</td>\n",
       "      <td>5</td>\n",
       "      <td>5</td>\n",
       "      <td>1.0</td>\n",
       "      <td>1</td>\n",
       "      <td>1.0</td>\n",
       "      <td>1.0</td>\n",
       "      <td>1</td>\n",
       "      <td>12</td>\n",
       "      <td>12</td>\n",
       "      <td>9</td>\n",
       "      <td>9</td>\n",
       "    </tr>\n",
       "  </tbody>\n",
       "</table>\n",
       "</div>"
      ],
      "text/plain": [
       "  order_id customer_id   merchant_id  order_amount     checkout_started_at  \\\n",
       "0   42C39B      9D74A0        6881F9        147.20 2018-10-03 14:26:18.497   \n",
       "1   A19AC4      2629AB        C37828         69.95 2018-09-21 16:55:03.443   \n",
       "2   381AFF      793FE0  252600000000         45.00 2018-09-15 13:41:46.103   \n",
       "3   3184A3      22C696        24FBAF        164.00 2018-10-10 00:59:25.793   \n",
       "4   237711      D4E94A        6F498E         69.17 2018-09-12 22:53:08.970   \n",
       "\n",
       "  credit_decision_started_at  customer_credit_score  customer_age  \\\n",
       "0    2018-10-03 14:26:18.997                    626            26   \n",
       "1    2018-09-21 16:55:05.100                    603            20   \n",
       "2    2018-09-15 13:41:47.197                    648            41   \n",
       "3    2018-10-10 00:59:26.123                    625            33   \n",
       "4    2018-09-12 22:53:10.923                    438            18   \n",
       "\n",
       "   customer_billing_zip  customer_shipping_zip  paid_installment_1  \\\n",
       "0                     1                      1                 1.0   \n",
       "1                     2                      2                 1.0   \n",
       "2                     3                      3                 1.0   \n",
       "3                     4                      4                 1.0   \n",
       "4                     5                      5                 1.0   \n",
       "\n",
       "   paid_installment_2  paid_installment_3  paid_installment_4  \\\n",
       "0                   1                 1.0                 1.0   \n",
       "1                   1                 1.0                 1.0   \n",
       "2                   1                 1.0                 1.0   \n",
       "3                   1                 1.0                 1.0   \n",
       "4                   1                 1.0                 1.0   \n",
       "\n",
       "   dependent_feature  day  day1  month  month1  \n",
       "0                  1    3     3     10      10  \n",
       "1                  1   21    21      9       9  \n",
       "2                  1   15    15      9       9  \n",
       "3                  1   10    10     10      10  \n",
       "4                  1   12    12      9       9  "
      ]
     },
     "execution_count": 38,
     "metadata": {},
     "output_type": "execute_result"
    }
   ],
   "source": [
    "df['month'] = pd.DatetimeIndex(df['credit_decision_started_at']).month\n",
    "df['month1'] = pd.DatetimeIndex(df['checkout_started_at']).month\n",
    "df.head()"
   ]
  },
  {
   "cell_type": "code",
   "execution_count": 39,
   "metadata": {},
   "outputs": [
    {
     "data": {
      "text/plain": [
       "9     5672\n",
       "10    3611\n",
       "8      717\n",
       "Name: month, dtype: int64"
      ]
     },
     "execution_count": 39,
     "metadata": {},
     "output_type": "execute_result"
    }
   ],
   "source": [
    "df['month'].value_counts()"
   ]
  },
  {
   "cell_type": "code",
   "execution_count": 40,
   "metadata": {},
   "outputs": [
    {
     "data": {
      "text/plain": [
       "9     5672\n",
       "10    3611\n",
       "8      717\n",
       "Name: month1, dtype: int64"
      ]
     },
     "execution_count": 40,
     "metadata": {},
     "output_type": "execute_result"
    }
   ],
   "source": [
    "df['month1'].value_counts()"
   ]
  },
  {
   "cell_type": "code",
   "execution_count": 41,
   "metadata": {},
   "outputs": [
    {
     "data": {
      "text/html": [
       "<div>\n",
       "<style scoped>\n",
       "    .dataframe tbody tr th:only-of-type {\n",
       "        vertical-align: middle;\n",
       "    }\n",
       "\n",
       "    .dataframe tbody tr th {\n",
       "        vertical-align: top;\n",
       "    }\n",
       "\n",
       "    .dataframe thead th {\n",
       "        text-align: right;\n",
       "    }\n",
       "</style>\n",
       "<table border=\"1\" class=\"dataframe\">\n",
       "  <thead>\n",
       "    <tr style=\"text-align: right;\">\n",
       "      <th></th>\n",
       "      <th>order_id</th>\n",
       "      <th>customer_id</th>\n",
       "      <th>merchant_id</th>\n",
       "      <th>order_amount</th>\n",
       "      <th>checkout_started_at</th>\n",
       "      <th>credit_decision_started_at</th>\n",
       "      <th>customer_credit_score</th>\n",
       "      <th>customer_age</th>\n",
       "      <th>customer_billing_zip</th>\n",
       "      <th>customer_shipping_zip</th>\n",
       "      <th>...</th>\n",
       "      <th>paid_installment_2</th>\n",
       "      <th>paid_installment_3</th>\n",
       "      <th>paid_installment_4</th>\n",
       "      <th>dependent_feature</th>\n",
       "      <th>day</th>\n",
       "      <th>day1</th>\n",
       "      <th>month</th>\n",
       "      <th>month1</th>\n",
       "      <th>year</th>\n",
       "      <th>year1</th>\n",
       "    </tr>\n",
       "  </thead>\n",
       "  <tbody>\n",
       "    <tr>\n",
       "      <th>0</th>\n",
       "      <td>42C39B</td>\n",
       "      <td>9D74A0</td>\n",
       "      <td>6881F9</td>\n",
       "      <td>147.20</td>\n",
       "      <td>2018-10-03 14:26:18.497</td>\n",
       "      <td>2018-10-03 14:26:18.997</td>\n",
       "      <td>626</td>\n",
       "      <td>26</td>\n",
       "      <td>1</td>\n",
       "      <td>1</td>\n",
       "      <td>...</td>\n",
       "      <td>1</td>\n",
       "      <td>1.0</td>\n",
       "      <td>1.0</td>\n",
       "      <td>1</td>\n",
       "      <td>3</td>\n",
       "      <td>3</td>\n",
       "      <td>10</td>\n",
       "      <td>10</td>\n",
       "      <td>2018</td>\n",
       "      <td>2018</td>\n",
       "    </tr>\n",
       "    <tr>\n",
       "      <th>1</th>\n",
       "      <td>A19AC4</td>\n",
       "      <td>2629AB</td>\n",
       "      <td>C37828</td>\n",
       "      <td>69.95</td>\n",
       "      <td>2018-09-21 16:55:03.443</td>\n",
       "      <td>2018-09-21 16:55:05.100</td>\n",
       "      <td>603</td>\n",
       "      <td>20</td>\n",
       "      <td>2</td>\n",
       "      <td>2</td>\n",
       "      <td>...</td>\n",
       "      <td>1</td>\n",
       "      <td>1.0</td>\n",
       "      <td>1.0</td>\n",
       "      <td>1</td>\n",
       "      <td>21</td>\n",
       "      <td>21</td>\n",
       "      <td>9</td>\n",
       "      <td>9</td>\n",
       "      <td>2018</td>\n",
       "      <td>2018</td>\n",
       "    </tr>\n",
       "    <tr>\n",
       "      <th>2</th>\n",
       "      <td>381AFF</td>\n",
       "      <td>793FE0</td>\n",
       "      <td>252600000000</td>\n",
       "      <td>45.00</td>\n",
       "      <td>2018-09-15 13:41:46.103</td>\n",
       "      <td>2018-09-15 13:41:47.197</td>\n",
       "      <td>648</td>\n",
       "      <td>41</td>\n",
       "      <td>3</td>\n",
       "      <td>3</td>\n",
       "      <td>...</td>\n",
       "      <td>1</td>\n",
       "      <td>1.0</td>\n",
       "      <td>1.0</td>\n",
       "      <td>1</td>\n",
       "      <td>15</td>\n",
       "      <td>15</td>\n",
       "      <td>9</td>\n",
       "      <td>9</td>\n",
       "      <td>2018</td>\n",
       "      <td>2018</td>\n",
       "    </tr>\n",
       "    <tr>\n",
       "      <th>3</th>\n",
       "      <td>3184A3</td>\n",
       "      <td>22C696</td>\n",
       "      <td>24FBAF</td>\n",
       "      <td>164.00</td>\n",
       "      <td>2018-10-10 00:59:25.793</td>\n",
       "      <td>2018-10-10 00:59:26.123</td>\n",
       "      <td>625</td>\n",
       "      <td>33</td>\n",
       "      <td>4</td>\n",
       "      <td>4</td>\n",
       "      <td>...</td>\n",
       "      <td>1</td>\n",
       "      <td>1.0</td>\n",
       "      <td>1.0</td>\n",
       "      <td>1</td>\n",
       "      <td>10</td>\n",
       "      <td>10</td>\n",
       "      <td>10</td>\n",
       "      <td>10</td>\n",
       "      <td>2018</td>\n",
       "      <td>2018</td>\n",
       "    </tr>\n",
       "    <tr>\n",
       "      <th>4</th>\n",
       "      <td>237711</td>\n",
       "      <td>D4E94A</td>\n",
       "      <td>6F498E</td>\n",
       "      <td>69.17</td>\n",
       "      <td>2018-09-12 22:53:08.970</td>\n",
       "      <td>2018-09-12 22:53:10.923</td>\n",
       "      <td>438</td>\n",
       "      <td>18</td>\n",
       "      <td>5</td>\n",
       "      <td>5</td>\n",
       "      <td>...</td>\n",
       "      <td>1</td>\n",
       "      <td>1.0</td>\n",
       "      <td>1.0</td>\n",
       "      <td>1</td>\n",
       "      <td>12</td>\n",
       "      <td>12</td>\n",
       "      <td>9</td>\n",
       "      <td>9</td>\n",
       "      <td>2018</td>\n",
       "      <td>2018</td>\n",
       "    </tr>\n",
       "  </tbody>\n",
       "</table>\n",
       "<p>5 rows × 21 columns</p>\n",
       "</div>"
      ],
      "text/plain": [
       "  order_id customer_id   merchant_id  order_amount     checkout_started_at  \\\n",
       "0   42C39B      9D74A0        6881F9        147.20 2018-10-03 14:26:18.497   \n",
       "1   A19AC4      2629AB        C37828         69.95 2018-09-21 16:55:03.443   \n",
       "2   381AFF      793FE0  252600000000         45.00 2018-09-15 13:41:46.103   \n",
       "3   3184A3      22C696        24FBAF        164.00 2018-10-10 00:59:25.793   \n",
       "4   237711      D4E94A        6F498E         69.17 2018-09-12 22:53:08.970   \n",
       "\n",
       "  credit_decision_started_at  customer_credit_score  customer_age  \\\n",
       "0    2018-10-03 14:26:18.997                    626            26   \n",
       "1    2018-09-21 16:55:05.100                    603            20   \n",
       "2    2018-09-15 13:41:47.197                    648            41   \n",
       "3    2018-10-10 00:59:26.123                    625            33   \n",
       "4    2018-09-12 22:53:10.923                    438            18   \n",
       "\n",
       "   customer_billing_zip  customer_shipping_zip  ...  paid_installment_2  \\\n",
       "0                     1                      1  ...                   1   \n",
       "1                     2                      2  ...                   1   \n",
       "2                     3                      3  ...                   1   \n",
       "3                     4                      4  ...                   1   \n",
       "4                     5                      5  ...                   1   \n",
       "\n",
       "   paid_installment_3  paid_installment_4  dependent_feature  day  day1  \\\n",
       "0                 1.0                 1.0                  1    3     3   \n",
       "1                 1.0                 1.0                  1   21    21   \n",
       "2                 1.0                 1.0                  1   15    15   \n",
       "3                 1.0                 1.0                  1   10    10   \n",
       "4                 1.0                 1.0                  1   12    12   \n",
       "\n",
       "   month  month1  year  year1  \n",
       "0     10      10  2018   2018  \n",
       "1      9       9  2018   2018  \n",
       "2      9       9  2018   2018  \n",
       "3     10      10  2018   2018  \n",
       "4      9       9  2018   2018  \n",
       "\n",
       "[5 rows x 21 columns]"
      ]
     },
     "execution_count": 41,
     "metadata": {},
     "output_type": "execute_result"
    }
   ],
   "source": [
    "df['year'] = pd.DatetimeIndex(df['credit_decision_started_at']).year\n",
    "df['year1'] = pd.DatetimeIndex(df['checkout_started_at']).year\n",
    "df.head()"
   ]
  },
  {
   "cell_type": "code",
   "execution_count": 42,
   "metadata": {},
   "outputs": [
    {
     "data": {
      "text/plain": [
       "2018    10000\n",
       "Name: year, dtype: int64"
      ]
     },
     "execution_count": 42,
     "metadata": {},
     "output_type": "execute_result"
    }
   ],
   "source": [
    "df['year'].value_counts()"
   ]
  },
  {
   "cell_type": "code",
   "execution_count": 43,
   "metadata": {},
   "outputs": [
    {
     "data": {
      "text/plain": [
       "2018    10000\n",
       "Name: year1, dtype: int64"
      ]
     },
     "execution_count": 43,
     "metadata": {},
     "output_type": "execute_result"
    }
   ],
   "source": [
    "# all the values are from 2018 only for checkout_started-at feature\n",
    "df['year1'].value_counts()"
   ]
  },
  {
   "cell_type": "markdown",
   "metadata": {},
   "source": [
    "#As we can observe that credit_decision_started_at and checkout_started_at features have similiar values for day, month and year, \n",
    "#we can drop the  features- credit_decision_started_at(as day, month and year columns are created), checkout_started_at and its separated features-day1, month1 and year1. "
   ]
  },
  {
   "cell_type": "code",
   "execution_count": 44,
   "metadata": {},
   "outputs": [
    {
     "data": {
      "text/html": [
       "<div>\n",
       "<style scoped>\n",
       "    .dataframe tbody tr th:only-of-type {\n",
       "        vertical-align: middle;\n",
       "    }\n",
       "\n",
       "    .dataframe tbody tr th {\n",
       "        vertical-align: top;\n",
       "    }\n",
       "\n",
       "    .dataframe thead th {\n",
       "        text-align: right;\n",
       "    }\n",
       "</style>\n",
       "<table border=\"1\" class=\"dataframe\">\n",
       "  <thead>\n",
       "    <tr style=\"text-align: right;\">\n",
       "      <th></th>\n",
       "      <th>order_id</th>\n",
       "      <th>customer_id</th>\n",
       "      <th>merchant_id</th>\n",
       "      <th>order_amount</th>\n",
       "      <th>checkout_started_at</th>\n",
       "      <th>credit_decision_started_at</th>\n",
       "      <th>customer_credit_score</th>\n",
       "      <th>customer_age</th>\n",
       "      <th>customer_billing_zip</th>\n",
       "      <th>customer_shipping_zip</th>\n",
       "      <th>...</th>\n",
       "      <th>paid_installment_2</th>\n",
       "      <th>paid_installment_3</th>\n",
       "      <th>paid_installment_4</th>\n",
       "      <th>dependent_feature</th>\n",
       "      <th>day</th>\n",
       "      <th>day1</th>\n",
       "      <th>month</th>\n",
       "      <th>month1</th>\n",
       "      <th>year</th>\n",
       "      <th>year1</th>\n",
       "    </tr>\n",
       "  </thead>\n",
       "  <tbody>\n",
       "    <tr>\n",
       "      <th>0</th>\n",
       "      <td>42C39B</td>\n",
       "      <td>9D74A0</td>\n",
       "      <td>6881F9</td>\n",
       "      <td>147.20</td>\n",
       "      <td>2018-10-03 14:26:18.497</td>\n",
       "      <td>2018-10-03 14:26:18.997</td>\n",
       "      <td>626</td>\n",
       "      <td>26</td>\n",
       "      <td>1</td>\n",
       "      <td>1</td>\n",
       "      <td>...</td>\n",
       "      <td>1</td>\n",
       "      <td>1.0</td>\n",
       "      <td>1.0</td>\n",
       "      <td>1</td>\n",
       "      <td>3</td>\n",
       "      <td>3</td>\n",
       "      <td>10</td>\n",
       "      <td>10</td>\n",
       "      <td>2018</td>\n",
       "      <td>2018</td>\n",
       "    </tr>\n",
       "    <tr>\n",
       "      <th>1</th>\n",
       "      <td>A19AC4</td>\n",
       "      <td>2629AB</td>\n",
       "      <td>C37828</td>\n",
       "      <td>69.95</td>\n",
       "      <td>2018-09-21 16:55:03.443</td>\n",
       "      <td>2018-09-21 16:55:05.100</td>\n",
       "      <td>603</td>\n",
       "      <td>20</td>\n",
       "      <td>2</td>\n",
       "      <td>2</td>\n",
       "      <td>...</td>\n",
       "      <td>1</td>\n",
       "      <td>1.0</td>\n",
       "      <td>1.0</td>\n",
       "      <td>1</td>\n",
       "      <td>21</td>\n",
       "      <td>21</td>\n",
       "      <td>9</td>\n",
       "      <td>9</td>\n",
       "      <td>2018</td>\n",
       "      <td>2018</td>\n",
       "    </tr>\n",
       "    <tr>\n",
       "      <th>2</th>\n",
       "      <td>381AFF</td>\n",
       "      <td>793FE0</td>\n",
       "      <td>252600000000</td>\n",
       "      <td>45.00</td>\n",
       "      <td>2018-09-15 13:41:46.103</td>\n",
       "      <td>2018-09-15 13:41:47.197</td>\n",
       "      <td>648</td>\n",
       "      <td>41</td>\n",
       "      <td>3</td>\n",
       "      <td>3</td>\n",
       "      <td>...</td>\n",
       "      <td>1</td>\n",
       "      <td>1.0</td>\n",
       "      <td>1.0</td>\n",
       "      <td>1</td>\n",
       "      <td>15</td>\n",
       "      <td>15</td>\n",
       "      <td>9</td>\n",
       "      <td>9</td>\n",
       "      <td>2018</td>\n",
       "      <td>2018</td>\n",
       "    </tr>\n",
       "    <tr>\n",
       "      <th>3</th>\n",
       "      <td>3184A3</td>\n",
       "      <td>22C696</td>\n",
       "      <td>24FBAF</td>\n",
       "      <td>164.00</td>\n",
       "      <td>2018-10-10 00:59:25.793</td>\n",
       "      <td>2018-10-10 00:59:26.123</td>\n",
       "      <td>625</td>\n",
       "      <td>33</td>\n",
       "      <td>4</td>\n",
       "      <td>4</td>\n",
       "      <td>...</td>\n",
       "      <td>1</td>\n",
       "      <td>1.0</td>\n",
       "      <td>1.0</td>\n",
       "      <td>1</td>\n",
       "      <td>10</td>\n",
       "      <td>10</td>\n",
       "      <td>10</td>\n",
       "      <td>10</td>\n",
       "      <td>2018</td>\n",
       "      <td>2018</td>\n",
       "    </tr>\n",
       "    <tr>\n",
       "      <th>4</th>\n",
       "      <td>237711</td>\n",
       "      <td>D4E94A</td>\n",
       "      <td>6F498E</td>\n",
       "      <td>69.17</td>\n",
       "      <td>2018-09-12 22:53:08.970</td>\n",
       "      <td>2018-09-12 22:53:10.923</td>\n",
       "      <td>438</td>\n",
       "      <td>18</td>\n",
       "      <td>5</td>\n",
       "      <td>5</td>\n",
       "      <td>...</td>\n",
       "      <td>1</td>\n",
       "      <td>1.0</td>\n",
       "      <td>1.0</td>\n",
       "      <td>1</td>\n",
       "      <td>12</td>\n",
       "      <td>12</td>\n",
       "      <td>9</td>\n",
       "      <td>9</td>\n",
       "      <td>2018</td>\n",
       "      <td>2018</td>\n",
       "    </tr>\n",
       "  </tbody>\n",
       "</table>\n",
       "<p>5 rows × 21 columns</p>\n",
       "</div>"
      ],
      "text/plain": [
       "  order_id customer_id   merchant_id  order_amount     checkout_started_at  \\\n",
       "0   42C39B      9D74A0        6881F9        147.20 2018-10-03 14:26:18.497   \n",
       "1   A19AC4      2629AB        C37828         69.95 2018-09-21 16:55:03.443   \n",
       "2   381AFF      793FE0  252600000000         45.00 2018-09-15 13:41:46.103   \n",
       "3   3184A3      22C696        24FBAF        164.00 2018-10-10 00:59:25.793   \n",
       "4   237711      D4E94A        6F498E         69.17 2018-09-12 22:53:08.970   \n",
       "\n",
       "  credit_decision_started_at  customer_credit_score  customer_age  \\\n",
       "0    2018-10-03 14:26:18.997                    626            26   \n",
       "1    2018-09-21 16:55:05.100                    603            20   \n",
       "2    2018-09-15 13:41:47.197                    648            41   \n",
       "3    2018-10-10 00:59:26.123                    625            33   \n",
       "4    2018-09-12 22:53:10.923                    438            18   \n",
       "\n",
       "   customer_billing_zip  customer_shipping_zip  ...  paid_installment_2  \\\n",
       "0                     1                      1  ...                   1   \n",
       "1                     2                      2  ...                   1   \n",
       "2                     3                      3  ...                   1   \n",
       "3                     4                      4  ...                   1   \n",
       "4                     5                      5  ...                   1   \n",
       "\n",
       "   paid_installment_3  paid_installment_4  dependent_feature  day  day1  \\\n",
       "0                 1.0                 1.0                  1    3     3   \n",
       "1                 1.0                 1.0                  1   21    21   \n",
       "2                 1.0                 1.0                  1   15    15   \n",
       "3                 1.0                 1.0                  1   10    10   \n",
       "4                 1.0                 1.0                  1   12    12   \n",
       "\n",
       "   month  month1  year  year1  \n",
       "0     10      10  2018   2018  \n",
       "1      9       9  2018   2018  \n",
       "2      9       9  2018   2018  \n",
       "3     10      10  2018   2018  \n",
       "4      9       9  2018   2018  \n",
       "\n",
       "[5 rows x 21 columns]"
      ]
     },
     "execution_count": 44,
     "metadata": {},
     "output_type": "execute_result"
    }
   ],
   "source": [
    "df.head()"
   ]
  },
  {
   "cell_type": "code",
   "execution_count": 45,
   "metadata": {},
   "outputs": [
    {
     "data": {
      "text/html": [
       "<div>\n",
       "<style scoped>\n",
       "    .dataframe tbody tr th:only-of-type {\n",
       "        vertical-align: middle;\n",
       "    }\n",
       "\n",
       "    .dataframe tbody tr th {\n",
       "        vertical-align: top;\n",
       "    }\n",
       "\n",
       "    .dataframe thead th {\n",
       "        text-align: right;\n",
       "    }\n",
       "</style>\n",
       "<table border=\"1\" class=\"dataframe\">\n",
       "  <thead>\n",
       "    <tr style=\"text-align: right;\">\n",
       "      <th></th>\n",
       "      <th>order_id</th>\n",
       "      <th>customer_id</th>\n",
       "      <th>merchant_id</th>\n",
       "      <th>order_amount</th>\n",
       "      <th>customer_credit_score</th>\n",
       "      <th>customer_age</th>\n",
       "      <th>customer_billing_zip</th>\n",
       "      <th>customer_shipping_zip</th>\n",
       "      <th>paid_installment_1</th>\n",
       "      <th>paid_installment_2</th>\n",
       "      <th>paid_installment_3</th>\n",
       "      <th>paid_installment_4</th>\n",
       "      <th>dependent_feature</th>\n",
       "      <th>day</th>\n",
       "      <th>month</th>\n",
       "      <th>year</th>\n",
       "    </tr>\n",
       "  </thead>\n",
       "  <tbody>\n",
       "    <tr>\n",
       "      <th>0</th>\n",
       "      <td>42C39B</td>\n",
       "      <td>9D74A0</td>\n",
       "      <td>6881F9</td>\n",
       "      <td>147.20</td>\n",
       "      <td>626</td>\n",
       "      <td>26</td>\n",
       "      <td>1</td>\n",
       "      <td>1</td>\n",
       "      <td>1.0</td>\n",
       "      <td>1</td>\n",
       "      <td>1.0</td>\n",
       "      <td>1.0</td>\n",
       "      <td>1</td>\n",
       "      <td>3</td>\n",
       "      <td>10</td>\n",
       "      <td>2018</td>\n",
       "    </tr>\n",
       "    <tr>\n",
       "      <th>1</th>\n",
       "      <td>A19AC4</td>\n",
       "      <td>2629AB</td>\n",
       "      <td>C37828</td>\n",
       "      <td>69.95</td>\n",
       "      <td>603</td>\n",
       "      <td>20</td>\n",
       "      <td>2</td>\n",
       "      <td>2</td>\n",
       "      <td>1.0</td>\n",
       "      <td>1</td>\n",
       "      <td>1.0</td>\n",
       "      <td>1.0</td>\n",
       "      <td>1</td>\n",
       "      <td>21</td>\n",
       "      <td>9</td>\n",
       "      <td>2018</td>\n",
       "    </tr>\n",
       "    <tr>\n",
       "      <th>2</th>\n",
       "      <td>381AFF</td>\n",
       "      <td>793FE0</td>\n",
       "      <td>252600000000</td>\n",
       "      <td>45.00</td>\n",
       "      <td>648</td>\n",
       "      <td>41</td>\n",
       "      <td>3</td>\n",
       "      <td>3</td>\n",
       "      <td>1.0</td>\n",
       "      <td>1</td>\n",
       "      <td>1.0</td>\n",
       "      <td>1.0</td>\n",
       "      <td>1</td>\n",
       "      <td>15</td>\n",
       "      <td>9</td>\n",
       "      <td>2018</td>\n",
       "    </tr>\n",
       "    <tr>\n",
       "      <th>3</th>\n",
       "      <td>3184A3</td>\n",
       "      <td>22C696</td>\n",
       "      <td>24FBAF</td>\n",
       "      <td>164.00</td>\n",
       "      <td>625</td>\n",
       "      <td>33</td>\n",
       "      <td>4</td>\n",
       "      <td>4</td>\n",
       "      <td>1.0</td>\n",
       "      <td>1</td>\n",
       "      <td>1.0</td>\n",
       "      <td>1.0</td>\n",
       "      <td>1</td>\n",
       "      <td>10</td>\n",
       "      <td>10</td>\n",
       "      <td>2018</td>\n",
       "    </tr>\n",
       "    <tr>\n",
       "      <th>4</th>\n",
       "      <td>237711</td>\n",
       "      <td>D4E94A</td>\n",
       "      <td>6F498E</td>\n",
       "      <td>69.17</td>\n",
       "      <td>438</td>\n",
       "      <td>18</td>\n",
       "      <td>5</td>\n",
       "      <td>5</td>\n",
       "      <td>1.0</td>\n",
       "      <td>1</td>\n",
       "      <td>1.0</td>\n",
       "      <td>1.0</td>\n",
       "      <td>1</td>\n",
       "      <td>12</td>\n",
       "      <td>9</td>\n",
       "      <td>2018</td>\n",
       "    </tr>\n",
       "  </tbody>\n",
       "</table>\n",
       "</div>"
      ],
      "text/plain": [
       "  order_id customer_id   merchant_id  order_amount  customer_credit_score  \\\n",
       "0   42C39B      9D74A0        6881F9        147.20                    626   \n",
       "1   A19AC4      2629AB        C37828         69.95                    603   \n",
       "2   381AFF      793FE0  252600000000         45.00                    648   \n",
       "3   3184A3      22C696        24FBAF        164.00                    625   \n",
       "4   237711      D4E94A        6F498E         69.17                    438   \n",
       "\n",
       "   customer_age  customer_billing_zip  customer_shipping_zip  \\\n",
       "0            26                     1                      1   \n",
       "1            20                     2                      2   \n",
       "2            41                     3                      3   \n",
       "3            33                     4                      4   \n",
       "4            18                     5                      5   \n",
       "\n",
       "   paid_installment_1  paid_installment_2  paid_installment_3  \\\n",
       "0                 1.0                   1                 1.0   \n",
       "1                 1.0                   1                 1.0   \n",
       "2                 1.0                   1                 1.0   \n",
       "3                 1.0                   1                 1.0   \n",
       "4                 1.0                   1                 1.0   \n",
       "\n",
       "   paid_installment_4  dependent_feature  day  month  year  \n",
       "0                 1.0                  1    3     10  2018  \n",
       "1                 1.0                  1   21      9  2018  \n",
       "2                 1.0                  1   15      9  2018  \n",
       "3                 1.0                  1   10     10  2018  \n",
       "4                 1.0                  1   12      9  2018  "
      ]
     },
     "execution_count": 45,
     "metadata": {},
     "output_type": "execute_result"
    }
   ],
   "source": [
    "#Dropping the columns\n",
    "drop_elements = ['checkout_started_at', 'credit_decision_started_at', 'day1', 'month1','year1']\n",
    "df= df.drop(drop_elements, axis = 1)\n",
    "df.head()"
   ]
  },
  {
   "cell_type": "code",
   "execution_count": 46,
   "metadata": {},
   "outputs": [
    {
     "data": {
      "text/plain": [
       "611    1728\n",
       "524      68\n",
       "650      52\n",
       "1        49\n",
       "655      49\n",
       "       ... \n",
       "379       1\n",
       "387       1\n",
       "436       1\n",
       "396       1\n",
       "352       1\n",
       "Name: customer_credit_score, Length: 448, dtype: int64"
      ]
     },
     "execution_count": 46,
     "metadata": {},
     "output_type": "execute_result"
    }
   ],
   "source": [
    "#Creating brackets for customer_credit_score to check the trend of defaulters \n",
    "df['customer_credit_score'].value_counts()"
   ]
  },
  {
   "cell_type": "code",
   "execution_count": 47,
   "metadata": {},
   "outputs": [
    {
     "name": "stdout",
     "output_type": "stream",
     "text": [
      "1\n",
      "836\n"
     ]
    }
   ],
   "source": [
    "min_credit_score=df['customer_credit_score'].min()\n",
    "max_credit_score= df['customer_credit_score'].max()\n",
    "print(min_credit_score)\n",
    "print(max_credit_score)"
   ]
  },
  {
   "cell_type": "code",
   "execution_count": 48,
   "metadata": {},
   "outputs": [
    {
     "name": "stderr",
     "output_type": "stream",
     "text": [
      "C:\\Users\\USER\\anaconda3\\lib\\site-packages\\seaborn\\distributions.py:2557: FutureWarning: `distplot` is a deprecated function and will be removed in a future version. Please adapt your code to use either `displot` (a figure-level function with similar flexibility) or `histplot` (an axes-level function for histograms).\n",
      "  warnings.warn(msg, FutureWarning)\n"
     ]
    },
    {
     "data": {
      "text/plain": [
       "<AxesSubplot:xlabel='customer_credit_score'>"
      ]
     },
     "execution_count": 48,
     "metadata": {},
     "output_type": "execute_result"
    },
    {
     "data": {
      "image/png": "[encoded data removed]",
      "text/plain": [
       "<Figure size 432x288 with 1 Axes>"
      ]
     },
     "metadata": {
      "needs_background": "light"
     },
     "output_type": "display_data"
    }
   ],
   "source": [
    "sns.distplot(df['customer_credit_score'],kde=False,color='darkred',bins=40)"
   ]
  },
  {
   "cell_type": "code",
   "execution_count": 49,
   "metadata": {},
   "outputs": [
    {
     "name": "stderr",
     "output_type": "stream",
     "text": [
      "C:\\Users\\USER\\anaconda3\\lib\\site-packages\\seaborn\\_decorators.py:36: FutureWarning: Pass the following variable as a keyword arg: x. From version 0.12, the only valid positional argument will be `data`, and passing other arguments without an explicit keyword will result in an error or misinterpretation.\n",
      "  warnings.warn(\n"
     ]
    },
    {
     "data": {
      "image/png": "[encoded data removed]",
      "text/plain": [
       "<Figure size 432x288 with 1 Axes>"
      ]
     },
     "metadata": {
      "needs_background": "light"
     },
     "output_type": "display_data"
    }
   ],
   "source": [
    "sns.boxplot(df['customer_credit_score'])\n",
    "plt.show()"
   ]
  },
  {
   "cell_type": "code",
   "execution_count": 50,
   "metadata": {},
   "outputs": [
    {
     "data": {
      "text/plain": [
       "count    10000.000000\n",
       "mean       613.435900\n",
       "std         92.555118\n",
       "min          1.000000\n",
       "25%        562.000000\n",
       "50%        611.000000\n",
       "75%        664.000000\n",
       "max        836.000000\n",
       "Name: customer_credit_score, dtype: float64"
      ]
     },
     "execution_count": 50,
     "metadata": {},
     "output_type": "execute_result"
    }
   ],
   "source": [
    "df['customer_credit_score'].describe()"
   ]
  },
  {
   "cell_type": "code",
   "execution_count": 51,
   "metadata": {},
   "outputs": [
    {
     "name": "stdout",
     "output_type": "stream",
     "text": [
      "(10000, 16)\n",
      "(9951, 16)\n"
     ]
    }
   ],
   "source": [
    "# We can see that outliers are present in the customer credit score. We can remove rows having credit score near to 1.\n",
    "print(df.shape)\n",
    "df= df[~(df['customer_credit_score']<200)]\n",
    "print(df.shape)"
   ]
  },
  {
   "cell_type": "code",
   "execution_count": 52,
   "metadata": {},
   "outputs": [],
   "source": [
    "#Customer credit brackets- credit score-0 if b/w 200 & 500, 1 if b/w 500 & 700, 2 b/w 700 & 900\n",
    "df.loc[(df['customer_credit_score'] > 200) & (df['customer_credit_score'] <= 500), 'customer_credit_score'] = 0\n",
    "df.loc[(df['customer_credit_score'] > 500) & (df['customer_credit_score'] <= 700), 'customer_credit_score'] = 1\n",
    "df.loc[(df['customer_credit_score'] > 700) & (df['customer_credit_score'] <= 900), 'customer_credit_score'] = 2"
   ]
  },
  {
   "cell_type": "code",
   "execution_count": 53,
   "metadata": {},
   "outputs": [
    {
     "data": {
      "text/plain": [
       "1    7582\n",
       "2    1640\n",
       "0     729\n",
       "Name: customer_credit_score, dtype: int64"
      ]
     },
     "execution_count": 53,
     "metadata": {},
     "output_type": "execute_result"
    }
   ],
   "source": [
    "df['customer_credit_score'].value_counts()"
   ]
  },
  {
   "cell_type": "code",
   "execution_count": 54,
   "metadata": {
    "scrolled": false
   },
   "outputs": [
    {
     "name": "stderr",
     "output_type": "stream",
     "text": [
      "C:\\Users\\USER\\anaconda3\\lib\\site-packages\\seaborn\\distributions.py:2557: FutureWarning: `distplot` is a deprecated function and will be removed in a future version. Please adapt your code to use either `displot` (a figure-level function with similar flexibility) or `histplot` (an axes-level function for histograms).\n",
      "  warnings.warn(msg, FutureWarning)\n"
     ]
    },
    {
     "data": {
      "text/plain": [
       "<AxesSubplot:xlabel='order_amount'>"
      ]
     },
     "execution_count": 54,
     "metadata": {},
     "output_type": "execute_result"
    },
    {
     "data": {
      "image/png": "[encoded data removed]",
      "text/plain": [
       "<Figure size 432x288 with 1 Axes>"
      ]
     },
     "metadata": {
      "needs_background": "light"
     },
     "output_type": "display_data"
    }
   ],
   "source": [
    "#Order amount spread in the dataset\n",
    "sns.distplot(df['order_amount'],kde=False,color='darkred',bins=40)"
   ]
  },
  {
   "cell_type": "code",
   "execution_count": 55,
   "metadata": {},
   "outputs": [
    {
     "data": {
      "text/html": [
       "<div>\n",
       "<style scoped>\n",
       "    .dataframe tbody tr th:only-of-type {\n",
       "        vertical-align: middle;\n",
       "    }\n",
       "\n",
       "    .dataframe tbody tr th {\n",
       "        vertical-align: top;\n",
       "    }\n",
       "\n",
       "    .dataframe thead th {\n",
       "        text-align: right;\n",
       "    }\n",
       "</style>\n",
       "<table border=\"1\" class=\"dataframe\">\n",
       "  <thead>\n",
       "    <tr style=\"text-align: right;\">\n",
       "      <th></th>\n",
       "      <th>order_id</th>\n",
       "      <th>customer_id</th>\n",
       "      <th>merchant_id</th>\n",
       "      <th>order_amount</th>\n",
       "      <th>customer_credit_score</th>\n",
       "      <th>customer_age</th>\n",
       "      <th>customer_billing_zip</th>\n",
       "      <th>customer_shipping_zip</th>\n",
       "      <th>paid_installment_1</th>\n",
       "      <th>paid_installment_2</th>\n",
       "      <th>paid_installment_3</th>\n",
       "      <th>paid_installment_4</th>\n",
       "      <th>dependent_feature</th>\n",
       "      <th>day</th>\n",
       "      <th>month</th>\n",
       "      <th>year</th>\n",
       "    </tr>\n",
       "  </thead>\n",
       "  <tbody>\n",
       "    <tr>\n",
       "      <th>0</th>\n",
       "      <td>42C39B</td>\n",
       "      <td>9D74A0</td>\n",
       "      <td>6881F9</td>\n",
       "      <td>147.20</td>\n",
       "      <td>1</td>\n",
       "      <td>26</td>\n",
       "      <td>1</td>\n",
       "      <td>1</td>\n",
       "      <td>1.0</td>\n",
       "      <td>1</td>\n",
       "      <td>1.0</td>\n",
       "      <td>1.0</td>\n",
       "      <td>1</td>\n",
       "      <td>3</td>\n",
       "      <td>10</td>\n",
       "      <td>2018</td>\n",
       "    </tr>\n",
       "    <tr>\n",
       "      <th>1</th>\n",
       "      <td>A19AC4</td>\n",
       "      <td>2629AB</td>\n",
       "      <td>C37828</td>\n",
       "      <td>69.95</td>\n",
       "      <td>1</td>\n",
       "      <td>20</td>\n",
       "      <td>2</td>\n",
       "      <td>2</td>\n",
       "      <td>1.0</td>\n",
       "      <td>1</td>\n",
       "      <td>1.0</td>\n",
       "      <td>1.0</td>\n",
       "      <td>1</td>\n",
       "      <td>21</td>\n",
       "      <td>9</td>\n",
       "      <td>2018</td>\n",
       "    </tr>\n",
       "    <tr>\n",
       "      <th>2</th>\n",
       "      <td>381AFF</td>\n",
       "      <td>793FE0</td>\n",
       "      <td>252600000000</td>\n",
       "      <td>45.00</td>\n",
       "      <td>1</td>\n",
       "      <td>41</td>\n",
       "      <td>3</td>\n",
       "      <td>3</td>\n",
       "      <td>1.0</td>\n",
       "      <td>1</td>\n",
       "      <td>1.0</td>\n",
       "      <td>1.0</td>\n",
       "      <td>1</td>\n",
       "      <td>15</td>\n",
       "      <td>9</td>\n",
       "      <td>2018</td>\n",
       "    </tr>\n",
       "    <tr>\n",
       "      <th>3</th>\n",
       "      <td>3184A3</td>\n",
       "      <td>22C696</td>\n",
       "      <td>24FBAF</td>\n",
       "      <td>164.00</td>\n",
       "      <td>1</td>\n",
       "      <td>33</td>\n",
       "      <td>4</td>\n",
       "      <td>4</td>\n",
       "      <td>1.0</td>\n",
       "      <td>1</td>\n",
       "      <td>1.0</td>\n",
       "      <td>1.0</td>\n",
       "      <td>1</td>\n",
       "      <td>10</td>\n",
       "      <td>10</td>\n",
       "      <td>2018</td>\n",
       "    </tr>\n",
       "    <tr>\n",
       "      <th>4</th>\n",
       "      <td>237711</td>\n",
       "      <td>D4E94A</td>\n",
       "      <td>6F498E</td>\n",
       "      <td>69.17</td>\n",
       "      <td>0</td>\n",
       "      <td>18</td>\n",
       "      <td>5</td>\n",
       "      <td>5</td>\n",
       "      <td>1.0</td>\n",
       "      <td>1</td>\n",
       "      <td>1.0</td>\n",
       "      <td>1.0</td>\n",
       "      <td>1</td>\n",
       "      <td>12</td>\n",
       "      <td>9</td>\n",
       "      <td>2018</td>\n",
       "    </tr>\n",
       "  </tbody>\n",
       "</table>\n",
       "</div>"
      ],
      "text/plain": [
       "  order_id customer_id   merchant_id  order_amount  customer_credit_score  \\\n",
       "0   42C39B      9D74A0        6881F9        147.20                      1   \n",
       "1   A19AC4      2629AB        C37828         69.95                      1   \n",
       "2   381AFF      793FE0  252600000000         45.00                      1   \n",
       "3   3184A3      22C696        24FBAF        164.00                      1   \n",
       "4   237711      D4E94A        6F498E         69.17                      0   \n",
       "\n",
       "   customer_age  customer_billing_zip  customer_shipping_zip  \\\n",
       "0            26                     1                      1   \n",
       "1            20                     2                      2   \n",
       "2            41                     3                      3   \n",
       "3            33                     4                      4   \n",
       "4            18                     5                      5   \n",
       "\n",
       "   paid_installment_1  paid_installment_2  paid_installment_3  \\\n",
       "0                 1.0                   1                 1.0   \n",
       "1                 1.0                   1                 1.0   \n",
       "2                 1.0                   1                 1.0   \n",
       "3                 1.0                   1                 1.0   \n",
       "4                 1.0                   1                 1.0   \n",
       "\n",
       "   paid_installment_4  dependent_feature  day  month  year  \n",
       "0                 1.0                  1    3     10  2018  \n",
       "1                 1.0                  1   21      9  2018  \n",
       "2                 1.0                  1   15      9  2018  \n",
       "3                 1.0                  1   10     10  2018  \n",
       "4                 1.0                  1   12      9  2018  "
      ]
     },
     "execution_count": 55,
     "metadata": {},
     "output_type": "execute_result"
    }
   ],
   "source": [
    "df.head()"
   ]
  },
  {
   "cell_type": "code",
   "execution_count": 56,
   "metadata": {},
   "outputs": [
    {
     "data": {
      "text/plain": [
       "105"
      ]
     },
     "execution_count": 56,
     "metadata": {},
     "output_type": "execute_result"
    }
   ],
   "source": [
    "df['merchant_id'].nunique()"
   ]
  },
  {
   "cell_type": "code",
   "execution_count": 57,
   "metadata": {},
   "outputs": [
    {
     "data": {
      "text/plain": [
       "25    460\n",
       "24    456\n",
       "23    445\n",
       "22    436\n",
       "26    429\n",
       "     ... \n",
       "79      2\n",
       "83      1\n",
       "82      1\n",
       "89      1\n",
       "88      1\n",
       "Name: customer_age, Length: 66, dtype: int64"
      ]
     },
     "execution_count": 57,
     "metadata": {},
     "output_type": "execute_result"
    }
   ],
   "source": [
    "#Creating brackets for customer_age to check the trend of defaulters \n",
    "df['customer_age'].value_counts()"
   ]
  },
  {
   "cell_type": "code",
   "execution_count": 58,
   "metadata": {},
   "outputs": [
    {
     "name": "stdout",
     "output_type": "stream",
     "text": [
      "18\n",
      "89\n"
     ]
    }
   ],
   "source": [
    "min_age=df['customer_age'].min()\n",
    "max_age= df['customer_age'].max()\n",
    "print(min_age)\n",
    "print(max_age)"
   ]
  },
  {
   "cell_type": "code",
   "execution_count": 59,
   "metadata": {},
   "outputs": [
    {
     "name": "stderr",
     "output_type": "stream",
     "text": [
      "C:\\Users\\USER\\anaconda3\\lib\\site-packages\\seaborn\\distributions.py:2557: FutureWarning: `distplot` is a deprecated function and will be removed in a future version. Please adapt your code to use either `displot` (a figure-level function with similar flexibility) or `histplot` (an axes-level function for histograms).\n",
      "  warnings.warn(msg, FutureWarning)\n"
     ]
    },
    {
     "data": {
      "text/plain": [
       "<AxesSubplot:xlabel='customer_age'>"
      ]
     },
     "execution_count": 59,
     "metadata": {},
     "output_type": "execute_result"
    },
    {
     "data": {
      "image/png": "[encoded data removed]",
      "text/plain": [
       "<Figure size 360x360 with 1 Axes>"
      ]
     },
     "metadata": {},
     "output_type": "display_data"
    }
   ],
   "source": [
    "sns.set(rc={'figure.figsize':(5,5)})\n",
    "sns.distplot(df['customer_age'],kde=False,color='darkblue',bins=40)"
   ]
  },
  {
   "cell_type": "code",
   "execution_count": 60,
   "metadata": {},
   "outputs": [],
   "source": [
    "#Customer age brackets- age-0 if b/w 15&35, 1 if b/w 35&55, 2 if above 55\n",
    "df.loc[(df['customer_age'] > 15) & (df['customer_age'] <= 35), 'customer_age'] = 0\n",
    "df.loc[(df['customer_age'] > 35) & (df['customer_age'] <= 55), 'customer_age'] = 1\n",
    "df.loc[(df['customer_age'] > 55) & (df['customer_age'] <= 90), 'customer_age'] = 2"
   ]
  },
  {
   "cell_type": "code",
   "execution_count": 61,
   "metadata": {},
   "outputs": [
    {
     "data": {
      "text/html": [
       "<div>\n",
       "<style scoped>\n",
       "    .dataframe tbody tr th:only-of-type {\n",
       "        vertical-align: middle;\n",
       "    }\n",
       "\n",
       "    .dataframe tbody tr th {\n",
       "        vertical-align: top;\n",
       "    }\n",
       "\n",
       "    .dataframe thead th {\n",
       "        text-align: right;\n",
       "    }\n",
       "</style>\n",
       "<table border=\"1\" class=\"dataframe\">\n",
       "  <thead>\n",
       "    <tr style=\"text-align: right;\">\n",
       "      <th></th>\n",
       "      <th>order_id</th>\n",
       "      <th>customer_id</th>\n",
       "      <th>merchant_id</th>\n",
       "      <th>order_amount</th>\n",
       "      <th>customer_credit_score</th>\n",
       "      <th>customer_age</th>\n",
       "      <th>customer_billing_zip</th>\n",
       "      <th>customer_shipping_zip</th>\n",
       "      <th>paid_installment_1</th>\n",
       "      <th>paid_installment_2</th>\n",
       "      <th>paid_installment_3</th>\n",
       "      <th>paid_installment_4</th>\n",
       "      <th>dependent_feature</th>\n",
       "      <th>day</th>\n",
       "      <th>month</th>\n",
       "      <th>year</th>\n",
       "    </tr>\n",
       "  </thead>\n",
       "  <tbody>\n",
       "    <tr>\n",
       "      <th>0</th>\n",
       "      <td>42C39B</td>\n",
       "      <td>9D74A0</td>\n",
       "      <td>6881F9</td>\n",
       "      <td>147.20</td>\n",
       "      <td>1</td>\n",
       "      <td>0</td>\n",
       "      <td>1</td>\n",
       "      <td>1</td>\n",
       "      <td>1.0</td>\n",
       "      <td>1</td>\n",
       "      <td>1.0</td>\n",
       "      <td>1.0</td>\n",
       "      <td>1</td>\n",
       "      <td>3</td>\n",
       "      <td>10</td>\n",
       "      <td>2018</td>\n",
       "    </tr>\n",
       "    <tr>\n",
       "      <th>1</th>\n",
       "      <td>A19AC4</td>\n",
       "      <td>2629AB</td>\n",
       "      <td>C37828</td>\n",
       "      <td>69.95</td>\n",
       "      <td>1</td>\n",
       "      <td>0</td>\n",
       "      <td>2</td>\n",
       "      <td>2</td>\n",
       "      <td>1.0</td>\n",
       "      <td>1</td>\n",
       "      <td>1.0</td>\n",
       "      <td>1.0</td>\n",
       "      <td>1</td>\n",
       "      <td>21</td>\n",
       "      <td>9</td>\n",
       "      <td>2018</td>\n",
       "    </tr>\n",
       "    <tr>\n",
       "      <th>2</th>\n",
       "      <td>381AFF</td>\n",
       "      <td>793FE0</td>\n",
       "      <td>252600000000</td>\n",
       "      <td>45.00</td>\n",
       "      <td>1</td>\n",
       "      <td>1</td>\n",
       "      <td>3</td>\n",
       "      <td>3</td>\n",
       "      <td>1.0</td>\n",
       "      <td>1</td>\n",
       "      <td>1.0</td>\n",
       "      <td>1.0</td>\n",
       "      <td>1</td>\n",
       "      <td>15</td>\n",
       "      <td>9</td>\n",
       "      <td>2018</td>\n",
       "    </tr>\n",
       "    <tr>\n",
       "      <th>3</th>\n",
       "      <td>3184A3</td>\n",
       "      <td>22C696</td>\n",
       "      <td>24FBAF</td>\n",
       "      <td>164.00</td>\n",
       "      <td>1</td>\n",
       "      <td>0</td>\n",
       "      <td>4</td>\n",
       "      <td>4</td>\n",
       "      <td>1.0</td>\n",
       "      <td>1</td>\n",
       "      <td>1.0</td>\n",
       "      <td>1.0</td>\n",
       "      <td>1</td>\n",
       "      <td>10</td>\n",
       "      <td>10</td>\n",
       "      <td>2018</td>\n",
       "    </tr>\n",
       "    <tr>\n",
       "      <th>4</th>\n",
       "      <td>237711</td>\n",
       "      <td>D4E94A</td>\n",
       "      <td>6F498E</td>\n",
       "      <td>69.17</td>\n",
       "      <td>0</td>\n",
       "      <td>0</td>\n",
       "      <td>5</td>\n",
       "      <td>5</td>\n",
       "      <td>1.0</td>\n",
       "      <td>1</td>\n",
       "      <td>1.0</td>\n",
       "      <td>1.0</td>\n",
       "      <td>1</td>\n",
       "      <td>12</td>\n",
       "      <td>9</td>\n",
       "      <td>2018</td>\n",
       "    </tr>\n",
       "  </tbody>\n",
       "</table>\n",
       "</div>"
      ],
      "text/plain": [
       "  order_id customer_id   merchant_id  order_amount  customer_credit_score  \\\n",
       "0   42C39B      9D74A0        6881F9        147.20                      1   \n",
       "1   A19AC4      2629AB        C37828         69.95                      1   \n",
       "2   381AFF      793FE0  252600000000         45.00                      1   \n",
       "3   3184A3      22C696        24FBAF        164.00                      1   \n",
       "4   237711      D4E94A        6F498E         69.17                      0   \n",
       "\n",
       "   customer_age  customer_billing_zip  customer_shipping_zip  \\\n",
       "0             0                     1                      1   \n",
       "1             0                     2                      2   \n",
       "2             1                     3                      3   \n",
       "3             0                     4                      4   \n",
       "4             0                     5                      5   \n",
       "\n",
       "   paid_installment_1  paid_installment_2  paid_installment_3  \\\n",
       "0                 1.0                   1                 1.0   \n",
       "1                 1.0                   1                 1.0   \n",
       "2                 1.0                   1                 1.0   \n",
       "3                 1.0                   1                 1.0   \n",
       "4                 1.0                   1                 1.0   \n",
       "\n",
       "   paid_installment_4  dependent_feature  day  month  year  \n",
       "0                 1.0                  1    3     10  2018  \n",
       "1                 1.0                  1   21      9  2018  \n",
       "2                 1.0                  1   15      9  2018  \n",
       "3                 1.0                  1   10     10  2018  \n",
       "4                 1.0                  1   12      9  2018  "
      ]
     },
     "execution_count": 61,
     "metadata": {},
     "output_type": "execute_result"
    }
   ],
   "source": [
    "df.head()"
   ]
  },
  {
   "cell_type": "code",
   "execution_count": 62,
   "metadata": {},
   "outputs": [
    {
     "data": {
      "text/plain": [
       "<AxesSubplot:>"
      ]
     },
     "execution_count": 62,
     "metadata": {},
     "output_type": "execute_result"
    },
    {
     "data": {
      "image/png": "[encoded data removed]",
      "text/plain": [
       "<Figure size 1656x1656 with 2 Axes>"
      ]
     },
     "metadata": {},
     "output_type": "display_data"
    }
   ],
   "source": [
    "# plotting correlation heatmap\n",
    "sns.set(rc={'figure.figsize':(23,23)})\n",
    "sns.heatmap(df.corr(), cmap=\"YlGnBu\",annot=True)"
   ]
  },
  {
   "cell_type": "code",
   "execution_count": 63,
   "metadata": {},
   "outputs": [
    {
     "name": "stderr",
     "output_type": "stream",
     "text": [
      "C:\\Users\\USER\\anaconda3\\lib\\site-packages\\seaborn\\_decorators.py:36: FutureWarning: Pass the following variables as keyword args: x, y. From version 0.12, the only valid positional argument will be `data`, and passing other arguments without an explicit keyword will result in an error or misinterpretation.\n",
      "  warnings.warn(\n"
     ]
    },
    {
     "data": {
      "text/plain": [
       "<AxesSubplot:xlabel='customer_credit_score', ylabel='dependent_feature'>"
      ]
     },
     "execution_count": 63,
     "metadata": {},
     "output_type": "execute_result"
    },
    {
     "data": {
      "image/png": "[encoded data removed]",
      "text/plain": [
       "<Figure size 360x360 with 1 Axes>"
      ]
     },
     "metadata": {},
     "output_type": "display_data"
    }
   ],
   "source": [
    "sns.set(rc={'figure.figsize':(5,5)})\n",
    "sns.scatterplot(df['customer_credit_score'],df['dependent_feature'])"
   ]
  },
  {
   "cell_type": "code",
   "execution_count": 64,
   "metadata": {},
   "outputs": [
    {
     "data": {
      "text/html": [
       "<div>\n",
       "<style scoped>\n",
       "    .dataframe tbody tr th:only-of-type {\n",
       "        vertical-align: middle;\n",
       "    }\n",
       "\n",
       "    .dataframe tbody tr th {\n",
       "        vertical-align: top;\n",
       "    }\n",
       "\n",
       "    .dataframe thead th {\n",
       "        text-align: right;\n",
       "    }\n",
       "</style>\n",
       "<table border=\"1\" class=\"dataframe\">\n",
       "  <thead>\n",
       "    <tr style=\"text-align: right;\">\n",
       "      <th></th>\n",
       "      <th>customer_credit_score</th>\n",
       "      <th>dependent_feature</th>\n",
       "    </tr>\n",
       "  </thead>\n",
       "  <tbody>\n",
       "    <tr>\n",
       "      <th>0</th>\n",
       "      <td>0</td>\n",
       "      <td>729</td>\n",
       "    </tr>\n",
       "    <tr>\n",
       "      <th>1</th>\n",
       "      <td>1</td>\n",
       "      <td>7582</td>\n",
       "    </tr>\n",
       "    <tr>\n",
       "      <th>2</th>\n",
       "      <td>2</td>\n",
       "      <td>1640</td>\n",
       "    </tr>\n",
       "  </tbody>\n",
       "</table>\n",
       "</div>"
      ],
      "text/plain": [
       "   customer_credit_score  dependent_feature\n",
       "0                      0                729\n",
       "1                      1               7582\n",
       "2                      2               1640"
      ]
     },
     "execution_count": 64,
     "metadata": {},
     "output_type": "execute_result"
    }
   ],
   "source": [
    "df.groupby('customer_credit_score')['dependent_feature'].count().reset_index()"
   ]
  },
  {
   "cell_type": "code",
   "execution_count": 65,
   "metadata": {},
   "outputs": [
    {
     "data": {
      "text/html": [
       "<div>\n",
       "<style scoped>\n",
       "    .dataframe tbody tr th:only-of-type {\n",
       "        vertical-align: middle;\n",
       "    }\n",
       "\n",
       "    .dataframe tbody tr th {\n",
       "        vertical-align: top;\n",
       "    }\n",
       "\n",
       "    .dataframe thead th {\n",
       "        text-align: right;\n",
       "    }\n",
       "</style>\n",
       "<table border=\"1\" class=\"dataframe\">\n",
       "  <thead>\n",
       "    <tr style=\"text-align: right;\">\n",
       "      <th>dependent_feature</th>\n",
       "      <th>0</th>\n",
       "      <th>1</th>\n",
       "    </tr>\n",
       "    <tr>\n",
       "      <th>customer_credit_score</th>\n",
       "      <th></th>\n",
       "      <th></th>\n",
       "    </tr>\n",
       "  </thead>\n",
       "  <tbody>\n",
       "    <tr>\n",
       "      <th>0</th>\n",
       "      <td>157</td>\n",
       "      <td>572</td>\n",
       "    </tr>\n",
       "    <tr>\n",
       "      <th>1</th>\n",
       "      <td>517</td>\n",
       "      <td>7065</td>\n",
       "    </tr>\n",
       "    <tr>\n",
       "      <th>2</th>\n",
       "      <td>20</td>\n",
       "      <td>1620</td>\n",
       "    </tr>\n",
       "  </tbody>\n",
       "</table>\n",
       "</div>"
      ],
      "text/plain": [
       "dependent_feature        0     1\n",
       "customer_credit_score           \n",
       "0                      157   572\n",
       "1                      517  7065\n",
       "2                       20  1620"
      ]
     },
     "execution_count": 65,
     "metadata": {},
     "output_type": "execute_result"
    }
   ],
   "source": [
    "pd.crosstab(df['customer_credit_score'],df['dependent_feature'])"
   ]
  },
  {
   "cell_type": "code",
   "execution_count": 66,
   "metadata": {},
   "outputs": [
    {
     "data": {
      "text/html": [
       "<div>\n",
       "<style scoped>\n",
       "    .dataframe tbody tr th:only-of-type {\n",
       "        vertical-align: middle;\n",
       "    }\n",
       "\n",
       "    .dataframe tbody tr th {\n",
       "        vertical-align: top;\n",
       "    }\n",
       "\n",
       "    .dataframe thead th {\n",
       "        text-align: right;\n",
       "    }\n",
       "</style>\n",
       "<table border=\"1\" class=\"dataframe\">\n",
       "  <thead>\n",
       "    <tr style=\"text-align: right;\">\n",
       "      <th>dependent_feature</th>\n",
       "      <th>0</th>\n",
       "      <th>1</th>\n",
       "    </tr>\n",
       "    <tr>\n",
       "      <th>customer_age</th>\n",
       "      <th></th>\n",
       "      <th></th>\n",
       "    </tr>\n",
       "  </thead>\n",
       "  <tbody>\n",
       "    <tr>\n",
       "      <th>0</th>\n",
       "      <td>498</td>\n",
       "      <td>5889</td>\n",
       "    </tr>\n",
       "    <tr>\n",
       "      <th>1</th>\n",
       "      <td>168</td>\n",
       "      <td>2790</td>\n",
       "    </tr>\n",
       "    <tr>\n",
       "      <th>2</th>\n",
       "      <td>28</td>\n",
       "      <td>578</td>\n",
       "    </tr>\n",
       "  </tbody>\n",
       "</table>\n",
       "</div>"
      ],
      "text/plain": [
       "dependent_feature    0     1\n",
       "customer_age                \n",
       "0                  498  5889\n",
       "1                  168  2790\n",
       "2                   28   578"
      ]
     },
     "execution_count": 66,
     "metadata": {},
     "output_type": "execute_result"
    }
   ],
   "source": [
    "pd.crosstab(df['customer_age'],df['dependent_feature'])"
   ]
  },
  {
   "cell_type": "code",
   "execution_count": 67,
   "metadata": {},
   "outputs": [
    {
     "data": {
      "text/html": [
       "<div>\n",
       "<style scoped>\n",
       "    .dataframe tbody tr th:only-of-type {\n",
       "        vertical-align: middle;\n",
       "    }\n",
       "\n",
       "    .dataframe tbody tr th {\n",
       "        vertical-align: top;\n",
       "    }\n",
       "\n",
       "    .dataframe thead th {\n",
       "        text-align: right;\n",
       "    }\n",
       "</style>\n",
       "<table border=\"1\" class=\"dataframe\">\n",
       "  <thead>\n",
       "    <tr style=\"text-align: right;\">\n",
       "      <th>dependent_feature</th>\n",
       "      <th>0</th>\n",
       "      <th>1</th>\n",
       "      <th>woe</th>\n",
       "      <th>iv</th>\n",
       "    </tr>\n",
       "    <tr>\n",
       "      <th>customer_credit_score</th>\n",
       "      <th></th>\n",
       "      <th></th>\n",
       "      <th></th>\n",
       "      <th></th>\n",
       "    </tr>\n",
       "  </thead>\n",
       "  <tbody>\n",
       "    <tr>\n",
       "      <th>0</th>\n",
       "      <td>0.226225</td>\n",
       "      <td>0.061791</td>\n",
       "      <td>-1.297770</td>\n",
       "      <td>0.477524</td>\n",
       "    </tr>\n",
       "    <tr>\n",
       "      <th>1</th>\n",
       "      <td>0.744957</td>\n",
       "      <td>0.763206</td>\n",
       "      <td>0.024202</td>\n",
       "      <td>0.477524</td>\n",
       "    </tr>\n",
       "    <tr>\n",
       "      <th>2</th>\n",
       "      <td>0.028818</td>\n",
       "      <td>0.175003</td>\n",
       "      <td>1.803786</td>\n",
       "      <td>0.477524</td>\n",
       "    </tr>\n",
       "  </tbody>\n",
       "</table>\n",
       "</div>"
      ],
      "text/plain": [
       "dependent_feature             0         1       woe        iv\n",
       "customer_credit_score                                        \n",
       "0                      0.226225  0.061791 -1.297770  0.477524\n",
       "1                      0.744957  0.763206  0.024202  0.477524\n",
       "2                      0.028818  0.175003  1.803786  0.477524"
      ]
     },
     "execution_count": 67,
     "metadata": {},
     "output_type": "execute_result"
    }
   ],
   "source": [
    "# Weight of evidence & information value for customer credit score feature\n",
    "feature,target = 'customer_credit_score','dependent_feature'\n",
    "df_woe_iv = (pd.crosstab(df[feature],df[target],\n",
    "                      normalize='columns')\n",
    "             .assign(woe=lambda dfx: np.log(dfx[1] / dfx[0]))\n",
    "             .assign(iv=lambda dfx: np.sum(dfx['woe']*\n",
    "                                           (dfx[1]-dfx[0]))))\n",
    "\n",
    "df_woe_iv\n",
    "\n",
    "#It is clearly visible that with customers having high credit score are expected to default less. \n",
    "#Also, the information value ~0.47 suggests that the feature is important with respect to dependent feature "
   ]
  },
  {
   "cell_type": "code",
   "execution_count": 68,
   "metadata": {},
   "outputs": [
    {
     "data": {
      "text/html": [
       "<div>\n",
       "<style scoped>\n",
       "    .dataframe tbody tr th:only-of-type {\n",
       "        vertical-align: middle;\n",
       "    }\n",
       "\n",
       "    .dataframe tbody tr th {\n",
       "        vertical-align: top;\n",
       "    }\n",
       "\n",
       "    .dataframe thead th {\n",
       "        text-align: right;\n",
       "    }\n",
       "</style>\n",
       "<table border=\"1\" class=\"dataframe\">\n",
       "  <thead>\n",
       "    <tr style=\"text-align: right;\">\n",
       "      <th>dependent_feature</th>\n",
       "      <th>0</th>\n",
       "      <th>1</th>\n",
       "      <th>woe</th>\n",
       "      <th>iv</th>\n",
       "    </tr>\n",
       "    <tr>\n",
       "      <th>customer_age</th>\n",
       "      <th></th>\n",
       "      <th></th>\n",
       "      <th></th>\n",
       "      <th></th>\n",
       "    </tr>\n",
       "  </thead>\n",
       "  <tbody>\n",
       "    <tr>\n",
       "      <th>0</th>\n",
       "      <td>0.717579</td>\n",
       "      <td>0.636167</td>\n",
       "      <td>-0.120422</td>\n",
       "      <td>0.032453</td>\n",
       "    </tr>\n",
       "    <tr>\n",
       "      <th>1</th>\n",
       "      <td>0.242075</td>\n",
       "      <td>0.301394</td>\n",
       "      <td>0.219170</td>\n",
       "      <td>0.032453</td>\n",
       "    </tr>\n",
       "    <tr>\n",
       "      <th>2</th>\n",
       "      <td>0.040346</td>\n",
       "      <td>0.062439</td>\n",
       "      <td>0.436706</td>\n",
       "      <td>0.032453</td>\n",
       "    </tr>\n",
       "  </tbody>\n",
       "</table>\n",
       "</div>"
      ],
      "text/plain": [
       "dependent_feature         0         1       woe        iv\n",
       "customer_age                                             \n",
       "0                  0.717579  0.636167 -0.120422  0.032453\n",
       "1                  0.242075  0.301394  0.219170  0.032453\n",
       "2                  0.040346  0.062439  0.436706  0.032453"
      ]
     },
     "execution_count": 68,
     "metadata": {},
     "output_type": "execute_result"
    }
   ],
   "source": [
    "# Weight of evidence & informaition value for customer age feature\n",
    "feature,target = 'customer_age','dependent_feature'\n",
    "df_woe_iv = (pd.crosstab(df[feature],df[target],\n",
    "                      normalize='columns')\n",
    "             .assign(woe=lambda dfx: np.log(dfx[1] / dfx[0]))\n",
    "             .assign(iv=lambda dfx: np.sum(dfx['woe']*\n",
    "                                           (dfx[1]-dfx[0]))))\n",
    "\n",
    "df_woe_iv\n",
    "\n",
    "#It is clearly visible that with increase in age, customers are less likely to default \n",
    "#Also, the information value ~0.03 suggests that the feature is a weak predictor."
   ]
  },
  {
   "cell_type": "code",
   "execution_count": 70,
   "metadata": {},
   "outputs": [],
   "source": [
    "df.drop(['order_id','customer_id','merchant_id', 'paid_installment_1', 'paid_installment_2','paid_installment_3', 'paid_installment_4'], axis='columns', inplace=True)"
   ]
  },
  {
   "cell_type": "code",
   "execution_count": 71,
   "metadata": {},
   "outputs": [
    {
     "data": {
      "text/html": [
       "<div>\n",
       "<style scoped>\n",
       "    .dataframe tbody tr th:only-of-type {\n",
       "        vertical-align: middle;\n",
       "    }\n",
       "\n",
       "    .dataframe tbody tr th {\n",
       "        vertical-align: top;\n",
       "    }\n",
       "\n",
       "    .dataframe thead th {\n",
       "        text-align: right;\n",
       "    }\n",
       "</style>\n",
       "<table border=\"1\" class=\"dataframe\">\n",
       "  <thead>\n",
       "    <tr style=\"text-align: right;\">\n",
       "      <th></th>\n",
       "      <th>order_amount</th>\n",
       "      <th>customer_credit_score</th>\n",
       "      <th>customer_age</th>\n",
       "      <th>customer_billing_zip</th>\n",
       "      <th>customer_shipping_zip</th>\n",
       "      <th>dependent_feature</th>\n",
       "      <th>day</th>\n",
       "      <th>month</th>\n",
       "      <th>year</th>\n",
       "    </tr>\n",
       "  </thead>\n",
       "  <tbody>\n",
       "    <tr>\n",
       "      <th>0</th>\n",
       "      <td>147.20</td>\n",
       "      <td>1</td>\n",
       "      <td>0</td>\n",
       "      <td>1</td>\n",
       "      <td>1</td>\n",
       "      <td>1</td>\n",
       "      <td>3</td>\n",
       "      <td>10</td>\n",
       "      <td>2018</td>\n",
       "    </tr>\n",
       "    <tr>\n",
       "      <th>1</th>\n",
       "      <td>69.95</td>\n",
       "      <td>1</td>\n",
       "      <td>0</td>\n",
       "      <td>2</td>\n",
       "      <td>2</td>\n",
       "      <td>1</td>\n",
       "      <td>21</td>\n",
       "      <td>9</td>\n",
       "      <td>2018</td>\n",
       "    </tr>\n",
       "    <tr>\n",
       "      <th>2</th>\n",
       "      <td>45.00</td>\n",
       "      <td>1</td>\n",
       "      <td>1</td>\n",
       "      <td>3</td>\n",
       "      <td>3</td>\n",
       "      <td>1</td>\n",
       "      <td>15</td>\n",
       "      <td>9</td>\n",
       "      <td>2018</td>\n",
       "    </tr>\n",
       "    <tr>\n",
       "      <th>3</th>\n",
       "      <td>164.00</td>\n",
       "      <td>1</td>\n",
       "      <td>0</td>\n",
       "      <td>4</td>\n",
       "      <td>4</td>\n",
       "      <td>1</td>\n",
       "      <td>10</td>\n",
       "      <td>10</td>\n",
       "      <td>2018</td>\n",
       "    </tr>\n",
       "    <tr>\n",
       "      <th>4</th>\n",
       "      <td>69.17</td>\n",
       "      <td>0</td>\n",
       "      <td>0</td>\n",
       "      <td>5</td>\n",
       "      <td>5</td>\n",
       "      <td>1</td>\n",
       "      <td>12</td>\n",
       "      <td>9</td>\n",
       "      <td>2018</td>\n",
       "    </tr>\n",
       "  </tbody>\n",
       "</table>\n",
       "</div>"
      ],
      "text/plain": [
       "   order_amount  customer_credit_score  customer_age  customer_billing_zip  \\\n",
       "0        147.20                      1             0                     1   \n",
       "1         69.95                      1             0                     2   \n",
       "2         45.00                      1             1                     3   \n",
       "3        164.00                      1             0                     4   \n",
       "4         69.17                      0             0                     5   \n",
       "\n",
       "   customer_shipping_zip  dependent_feature  day  month  year  \n",
       "0                      1                  1    3     10  2018  \n",
       "1                      2                  1   21      9  2018  \n",
       "2                      3                  1   15      9  2018  \n",
       "3                      4                  1   10     10  2018  \n",
       "4                      5                  1   12      9  2018  "
      ]
     },
     "execution_count": 71,
     "metadata": {},
     "output_type": "execute_result"
    }
   ],
   "source": [
    "df.head()"
   ]
  },
  {
   "cell_type": "markdown",
   "metadata": {},
   "source": [
    "Great! Our data is ready for our machine learning models.\n",
    "Let's start by splitting our data into a training set and test set"
   ]
  },
  {
   "cell_type": "code",
   "execution_count": 73,
   "metadata": {},
   "outputs": [
    {
     "data": {
      "text/plain": [
       "((6965, 8), (2986, 8))"
      ]
     },
     "execution_count": 73,
     "metadata": {},
     "output_type": "execute_result"
    }
   ],
   "source": [
    "# Splitting the data into train and test\n",
    "X=df.copy()\n",
    "del X['dependent_feature']\n",
    "y= df[['dependent_feature']]\n",
    "\n",
    "X_train, X_test, y_train, y_test = train_test_split(X, y, train_size=0.7, random_state=42)\n",
    "X_train.shape, X_test.shape"
   ]
  },
  {
   "cell_type": "markdown",
   "metadata": {},
   "source": [
    "Training and Predicting"
   ]
  },
  {
   "cell_type": "markdown",
   "metadata": {},
   "source": [
    "# Random Forest Score"
   ]
  },
  {
   "cell_type": "code",
   "execution_count": 74,
   "metadata": {},
   "outputs": [
    {
     "name": "stderr",
     "output_type": "stream",
     "text": [
      "<ipython-input-74-ed7b6289d6f7>:6: DataConversionWarning: A column-vector y was passed when a 1d array was expected. Please change the shape of y to (n_samples,), for example using ravel().\n",
      "  classifier_rf.fit(X_train, y_train)\n"
     ]
    }
   ],
   "source": [
    "from sklearn.ensemble import RandomForestClassifier\n",
    "\n",
    "classifier_rf = RandomForestClassifier(random_state=42, n_jobs=-1, max_depth=5,\n",
    "                                       n_estimators=100, oob_score=True)\n",
    "\n",
    "classifier_rf.fit(X_train, y_train)\n",
    "\n",
    "classifier_rf.oob_score_\n",
    "\n",
    "rf = RandomForestClassifier(random_state=42, n_jobs=-1)\n",
    "\n",
    "params = {\n",
    "    'max_depth': [2,3,5,10,20],\n",
    "    'min_samples_leaf': [5,10,20,50,100,200],\n",
    "    'n_estimators': [10,25,30,50,100,200]\n",
    "}"
   ]
  },
  {
   "cell_type": "code",
   "execution_count": 75,
   "metadata": {},
   "outputs": [
    {
     "name": "stdout",
     "output_type": "stream",
     "text": [
      "Fitting 4 folds for each of 180 candidates, totalling 720 fits\n"
     ]
    },
    {
     "name": "stderr",
     "output_type": "stream",
     "text": [
      "C:\\Users\\USER\\anaconda3\\lib\\site-packages\\sklearn\\model_selection\\_search.py:880: DataConversionWarning: A column-vector y was passed when a 1d array was expected. Please change the shape of y to (n_samples,), for example using ravel().\n",
      "  self.best_estimator_.fit(X, y, **fit_params)\n"
     ]
    },
    {
     "data": {
      "text/plain": [
       "RandomForestClassifier(max_depth=20, min_samples_leaf=5, n_estimators=30,\n",
       "                       n_jobs=-1, random_state=42)"
      ]
     },
     "execution_count": 75,
     "metadata": {},
     "output_type": "execute_result"
    }
   ],
   "source": [
    "from sklearn.model_selection import GridSearchCV\n",
    "\n",
    "# Instantiate the grid search model\n",
    "grid_search = GridSearchCV(estimator=rf,\n",
    "                           param_grid=params,\n",
    "                           cv = 4,\n",
    "                           n_jobs=-1, verbose=1, scoring=\"accuracy\")\n",
    "\n",
    "grid_search.fit(X_train, y_train)\n",
    "\n",
    "grid_search.best_score_\n",
    "\n",
    "rf_best = grid_search.best_estimator_\n",
    "rf_best"
   ]
  },
  {
   "cell_type": "code",
   "execution_count": 76,
   "metadata": {},
   "outputs": [
    {
     "name": "stderr",
     "output_type": "stream",
     "text": [
      "<ipython-input-76-7a9ea3b263b2>:4: DataConversionWarning: A column-vector y was passed when a 1d array was expected. Please change the shape of y to (n_samples,), for example using ravel().\n",
      "  classifier_rf.fit(X_train, y_train)\n"
     ]
    },
    {
     "data": {
      "text/plain": [
       "RandomForestClassifier(max_depth=5, min_samples_leaf=5, n_estimators=200,\n",
       "                       n_jobs=-1, random_state=42)"
      ]
     },
     "execution_count": 76,
     "metadata": {},
     "output_type": "execute_result"
    }
   ],
   "source": [
    "classifier_rf = RandomForestClassifier(max_depth=5, min_samples_leaf=5, n_estimators=200,\n",
    "                       n_jobs=-1, random_state=42)\n",
    "\n",
    "classifier_rf.fit(X_train, y_train)"
   ]
  },
  {
   "cell_type": "code",
   "execution_count": 77,
   "metadata": {},
   "outputs": [],
   "source": [
    "y_pred= classifier_rf.predict(X_test)"
   ]
  },
  {
   "cell_type": "code",
   "execution_count": 78,
   "metadata": {},
   "outputs": [
    {
     "name": "stdout",
     "output_type": "stream",
     "text": [
      "[[   0  208]\n",
      " [   0 2778]]\n"
     ]
    }
   ],
   "source": [
    "from sklearn.metrics import confusion_matrix\n",
    "from sklearn.metrics import plot_confusion_matrix\n",
    "\n",
    "# confusion_matrix funnction a matrix containing the summary of predictions\n",
    "print(confusion_matrix(y_test, y_pred))"
   ]
  },
  {
   "cell_type": "code",
   "execution_count": 79,
   "metadata": {},
   "outputs": [
    {
     "data": {
      "image/png": "[encoded data removed]",
      "text/plain": [
       "<Figure size 360x360 with 2 Axes>"
      ]
     },
     "metadata": {},
     "output_type": "display_data"
    }
   ],
   "source": [
    "# plot_confusion_matrix function is used to visualize the confusion matrix\n",
    "plot_confusion_matrix(classifier_rf, X_test, y_test)\n",
    "plt.show()"
   ]
  },
  {
   "cell_type": "code",
   "execution_count": 80,
   "metadata": {},
   "outputs": [
    {
     "name": "stdout",
     "output_type": "stream",
     "text": [
      "Precision Score of the classifier is: 0.9303415941058272\n",
      "Recall Score of the classifier is: 1.0\n",
      "F1 Score of the classifier is: 0.9639139486467732\n"
     ]
    }
   ],
   "source": [
    "# Importing all necessary libraries\n",
    "from sklearn.metrics import precision_score\n",
    "from sklearn.metrics import recall_score\n",
    "from sklearn.metrics import f1_score\n",
    "\n",
    "# Calculating the precision score of classifier\n",
    "print(f\"Precision Score of the classifier is: {precision_score(y_test, y_pred)}\")\n",
    "# Calculating the recall score of classifier\n",
    "print(f\"Recall Score of the classifier is: {recall_score(y_test, y_pred)}\")\n",
    "# Calculating the F1 score of classifier\n",
    "print(f\"F1 Score of the classifier is: {f1_score(y_test, y_pred)}\")"
   ]
  },
  {
   "cell_type": "markdown",
   "metadata": {},
   "source": [
    "Given below are the outcomes/findings from the model-\n",
    "\n",
    "● Which features show strong correlation with a customer’s likelihood of paying back installments?\n",
    "- Following features show the strong correlation with a customer's likelihood of paying back installments.\n",
    "  1 Customer credit rating feature- The information value ~0.47 suggests that the feature is a strong predictor with respect to     dependent feature. It is observed that customers having high credit score are expected to default less. Customers               having credit rating above 700 are less defaulters ~1.2%. However, this is a trend derived after replacing the null values     in all installments features as 1 (customers have paid back their installment), especially in installment 4 where ~6% of       the values were null.   \n",
    "  \n",
    "● Which features should be discarded? Why? \n",
    "- Following features should be discarded:\n",
    "  1 checkout_started_at- The feature has similar values as credit_decision_started_at and creating redundant information for       the model. Also, credit_decision_started_at feature was use to create new columns- day, month and year.\n",
    "  2 approved_for_installments- This feature was dropped as it has only one class- 'True' which is not usefull for model\n",
    "  3 order_id- This feature was having categorical values and not also not usefull for model\n",
    "  4 customer_id- This feature was having categorical values and not also not usefull for model\n",
    "  5 merchant_id- This feature was having categorical values and not also not usefull for model\n",
    "  6 All installment features- As we have already created dependent feature by using them, so they will be highly correlated         with dependent feature and not required for model.\n",
    "  \n",
    "● What surprised you about the results/trends observed in the data?\n",
    "- There were few uncertain trends seen while performing exploratory data analysis \n",
    "  1 Customers having credit score b/w 300 and 500 are more like to default ~21%\n",
    "  2 Customers with age brackets (15 & 35) and (35 & 55) have similiar likelihood to be defaulters ~6-7%\n",
    "\n",
    "● What additional data would you like to see that might help build a better installment approval classifier? \n",
    "- I would like to see more data/features related to geographical information like region as the current data is at               customer_billing_zip and customer_shipping_zip which is quite granular. Features like region segmentation would help us         to understand the default customers and non-default customers trend region wise. This could be helpful in future prediction     of categorizing the new customer.\n",
    "- Also, the dataset is quite small. It impacts the overall results of the model.  \n",
    "\n",
    "● What would be your next steps to train/build a model that we could use to make real time customer approval decisions?\n",
    "- Next steps would be to fine tune the model so that it doesn't fall in underfitting or overfitting category. Then to deploy     the model at website/location for default/non-default customers identification. "
   ]
  }
 ],
 "metadata": {
  "kernelspec": {
   "display_name": "Python 3",
   "language": "python",
   "name": "python3"
  },
  "language_info": {
   "codemirror_mode": {
    "name": "ipython",
    "version": 3
   },
   "file_extension": ".py",
   "mimetype": "text/x-python",
   "name": "python",
   "nbconvert_exporter": "python",
   "pygments_lexer": "ipython3",
   "version": "3.7.3"
  }
 },
 "nbformat": 4,
 "nbformat_minor": 5
}
